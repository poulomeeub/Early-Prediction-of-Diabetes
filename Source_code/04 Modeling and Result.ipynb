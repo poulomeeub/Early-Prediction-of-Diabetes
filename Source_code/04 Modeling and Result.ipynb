{
 "cells": [
  {
   "cell_type": "code",
   "execution_count": 290,
   "id": "cb2602a3",
   "metadata": {},
   "outputs": [
    {
     "name": "stdout",
     "output_type": "stream",
     "text": [
      "Collecting tensorflow\n",
      "  Obtaining dependency information for tensorflow from https://files.pythonhosted.org/packages/93/21/9b035a4f823d6aee2917c75415be9a95861ff3d73a0a65e48edbf210cec1/tensorflow-2.15.0-cp311-cp311-win_amd64.whl.metadata\n",
      "  Downloading tensorflow-2.15.0-cp311-cp311-win_amd64.whl.metadata (3.6 kB)\n",
      "Collecting tensorflow-intel==2.15.0 (from tensorflow)\n",
      "  Obtaining dependency information for tensorflow-intel==2.15.0 from https://files.pythonhosted.org/packages/4c/48/1a5a15517f18eaa4ff8d598b1c000300b20c1bb0e624539d702117a0c369/tensorflow_intel-2.15.0-cp311-cp311-win_amd64.whl.metadata\n",
      "  Downloading tensorflow_intel-2.15.0-cp311-cp311-win_amd64.whl.metadata (5.1 kB)\n",
      "Collecting absl-py>=1.0.0 (from tensorflow-intel==2.15.0->tensorflow)\n",
      "  Obtaining dependency information for absl-py>=1.0.0 from https://files.pythonhosted.org/packages/01/e4/dc0a1dcc4e74e08d7abedab278c795eef54a224363bb18f5692f416d834f/absl_py-2.0.0-py3-none-any.whl.metadata\n",
      "  Downloading absl_py-2.0.0-py3-none-any.whl.metadata (2.3 kB)\n",
      "Collecting astunparse>=1.6.0 (from tensorflow-intel==2.15.0->tensorflow)\n",
      "  Downloading astunparse-1.6.3-py2.py3-none-any.whl (12 kB)\n",
      "Collecting flatbuffers>=23.5.26 (from tensorflow-intel==2.15.0->tensorflow)\n",
      "  Obtaining dependency information for flatbuffers>=23.5.26 from https://files.pythonhosted.org/packages/6f/12/d5c79ee252793ffe845d58a913197bfa02ae9a0b5c9bc3dc4b58d477b9e7/flatbuffers-23.5.26-py2.py3-none-any.whl.metadata\n",
      "  Downloading flatbuffers-23.5.26-py2.py3-none-any.whl.metadata (850 bytes)\n",
      "Collecting gast!=0.5.0,!=0.5.1,!=0.5.2,>=0.2.1 (from tensorflow-intel==2.15.0->tensorflow)\n",
      "  Downloading gast-0.5.4-py3-none-any.whl (19 kB)\n",
      "Collecting google-pasta>=0.1.1 (from tensorflow-intel==2.15.0->tensorflow)\n",
      "  Downloading google_pasta-0.2.0-py3-none-any.whl (57 kB)\n",
      "     ---------------------------------------- 0.0/57.5 kB ? eta -:--:--\n",
      "     ---------------------------------------- 57.5/57.5 kB 3.0 MB/s eta 0:00:00\n",
      "Requirement already satisfied: h5py>=2.9.0 in c:\\users\\poulomee roy\\anaconda3\\lib\\site-packages (from tensorflow-intel==2.15.0->tensorflow) (3.7.0)\n",
      "Collecting libclang>=13.0.0 (from tensorflow-intel==2.15.0->tensorflow)\n",
      "  Obtaining dependency information for libclang>=13.0.0 from https://files.pythonhosted.org/packages/02/8c/dc970bc00867fe290e8c8a7befa1635af716a9ebdfe3fb9dce0ca4b522ce/libclang-16.0.6-py2.py3-none-win_amd64.whl.metadata\n",
      "  Downloading libclang-16.0.6-py2.py3-none-win_amd64.whl.metadata (5.3 kB)\n",
      "Collecting ml-dtypes~=0.2.0 (from tensorflow-intel==2.15.0->tensorflow)\n",
      "  Obtaining dependency information for ml-dtypes~=0.2.0 from https://files.pythonhosted.org/packages/08/89/c727fde1a3d12586e0b8c01abf53754707d76beaa9987640e70807d4545f/ml_dtypes-0.2.0-cp311-cp311-win_amd64.whl.metadata\n",
      "  Downloading ml_dtypes-0.2.0-cp311-cp311-win_amd64.whl.metadata (20 kB)\n",
      "Requirement already satisfied: numpy<2.0.0,>=1.23.5 in c:\\users\\poulomee roy\\anaconda3\\lib\\site-packages (from tensorflow-intel==2.15.0->tensorflow) (1.24.3)\n",
      "Collecting opt-einsum>=2.3.2 (from tensorflow-intel==2.15.0->tensorflow)\n",
      "  Downloading opt_einsum-3.3.0-py3-none-any.whl (65 kB)\n",
      "     ---------------------------------------- 0.0/65.5 kB ? eta -:--:--\n",
      "     ---------------------------------------- 65.5/65.5 kB ? eta 0:00:00\n",
      "Requirement already satisfied: packaging in c:\\users\\poulomee roy\\anaconda3\\lib\\site-packages (from tensorflow-intel==2.15.0->tensorflow) (23.0)\n",
      "Collecting protobuf!=4.21.0,!=4.21.1,!=4.21.2,!=4.21.3,!=4.21.4,!=4.21.5,<5.0.0dev,>=3.20.3 (from tensorflow-intel==2.15.0->tensorflow)\n",
      "  Obtaining dependency information for protobuf!=4.21.0,!=4.21.1,!=4.21.2,!=4.21.3,!=4.21.4,!=4.21.5,<5.0.0dev,>=3.20.3 from https://files.pythonhosted.org/packages/fe/6b/7f177e8d6fe4caa14f4065433af9f879d4fab84f0d17dcba7b407f6bd808/protobuf-4.25.1-cp310-abi3-win_amd64.whl.metadata\n",
      "  Downloading protobuf-4.25.1-cp310-abi3-win_amd64.whl.metadata (541 bytes)\n",
      "Requirement already satisfied: setuptools in c:\\users\\poulomee roy\\anaconda3\\lib\\site-packages (from tensorflow-intel==2.15.0->tensorflow) (68.0.0)\n",
      "Requirement already satisfied: six>=1.12.0 in c:\\users\\poulomee roy\\anaconda3\\lib\\site-packages (from tensorflow-intel==2.15.0->tensorflow) (1.16.0)\n",
      "Collecting termcolor>=1.1.0 (from tensorflow-intel==2.15.0->tensorflow)\n",
      "  Obtaining dependency information for termcolor>=1.1.0 from https://files.pythonhosted.org/packages/d9/5f/8c716e47b3a50cbd7c146f45881e11d9414def768b7cd9c5e6650ec2a80a/termcolor-2.4.0-py3-none-any.whl.metadata\n",
      "  Downloading termcolor-2.4.0-py3-none-any.whl.metadata (6.1 kB)\n",
      "Requirement already satisfied: typing-extensions>=3.6.6 in c:\\users\\poulomee roy\\anaconda3\\lib\\site-packages (from tensorflow-intel==2.15.0->tensorflow) (4.7.1)\n",
      "Requirement already satisfied: wrapt<1.15,>=1.11.0 in c:\\users\\poulomee roy\\anaconda3\\lib\\site-packages (from tensorflow-intel==2.15.0->tensorflow) (1.14.1)\n",
      "Collecting tensorflow-io-gcs-filesystem>=0.23.1 (from tensorflow-intel==2.15.0->tensorflow)\n",
      "  Downloading tensorflow_io_gcs_filesystem-0.31.0-cp311-cp311-win_amd64.whl (1.5 MB)\n",
      "     ---------------------------------------- 0.0/1.5 MB ? eta -:--:--\n",
      "     -------- ------------------------------- 0.3/1.5 MB 10.2 MB/s eta 0:00:01\n",
      "     ----------------------------------- ---- 1.3/1.5 MB 16.7 MB/s eta 0:00:01\n",
      "     ---------------------------------------- 1.5/1.5 MB 15.7 MB/s eta 0:00:00\n",
      "Collecting grpcio<2.0,>=1.24.3 (from tensorflow-intel==2.15.0->tensorflow)\n",
      "  Obtaining dependency information for grpcio<2.0,>=1.24.3 from https://files.pythonhosted.org/packages/bc/e5/f656b17fe1ccda1e2a4fe20298b8bcf7c804561c90ee763e39efc1c3772f/grpcio-1.59.3-cp311-cp311-win_amd64.whl.metadata\n",
      "  Downloading grpcio-1.59.3-cp311-cp311-win_amd64.whl.metadata (4.2 kB)\n",
      "Collecting tensorboard<2.16,>=2.15 (from tensorflow-intel==2.15.0->tensorflow)\n",
      "  Obtaining dependency information for tensorboard<2.16,>=2.15 from https://files.pythonhosted.org/packages/6e/0c/1059a6682cf2cc1fcc0d5327837b5672fe4f5574255fa5430d0a8ceb75e9/tensorboard-2.15.1-py3-none-any.whl.metadata\n",
      "  Downloading tensorboard-2.15.1-py3-none-any.whl.metadata (1.7 kB)\n",
      "Collecting tensorflow-estimator<2.16,>=2.15.0 (from tensorflow-intel==2.15.0->tensorflow)\n",
      "  Obtaining dependency information for tensorflow-estimator<2.16,>=2.15.0 from https://files.pythonhosted.org/packages/b6/c8/2f823c8958d5342eafc6dd3e922f0cc4fcf8c2e0460284cc462dae3b60a0/tensorflow_estimator-2.15.0-py2.py3-none-any.whl.metadata\n",
      "  Downloading tensorflow_estimator-2.15.0-py2.py3-none-any.whl.metadata (1.3 kB)\n",
      "Collecting keras<2.16,>=2.15.0 (from tensorflow-intel==2.15.0->tensorflow)\n",
      "  Obtaining dependency information for keras<2.16,>=2.15.0 from https://files.pythonhosted.org/packages/fc/a7/0d4490de967a67f68a538cc9cdb259bff971c4b5787f7765dc7c8f118f71/keras-2.15.0-py3-none-any.whl.metadata\n",
      "  Downloading keras-2.15.0-py3-none-any.whl.metadata (2.4 kB)\n",
      "Requirement already satisfied: wheel<1.0,>=0.23.0 in c:\\users\\poulomee roy\\anaconda3\\lib\\site-packages (from astunparse>=1.6.0->tensorflow-intel==2.15.0->tensorflow) (0.38.4)\n",
      "Collecting google-auth<3,>=1.6.3 (from tensorboard<2.16,>=2.15->tensorflow-intel==2.15.0->tensorflow)\n",
      "  Obtaining dependency information for google-auth<3,>=1.6.3 from https://files.pythonhosted.org/packages/ca/7e/2d41727aeba37b84e1ca515fbb2ca0d706c591ca946236466ffe575b2059/google_auth-2.24.0-py2.py3-none-any.whl.metadata\n",
      "  Downloading google_auth-2.24.0-py2.py3-none-any.whl.metadata (4.7 kB)\n",
      "Collecting google-auth-oauthlib<2,>=0.5 (from tensorboard<2.16,>=2.15->tensorflow-intel==2.15.0->tensorflow)\n",
      "  Obtaining dependency information for google-auth-oauthlib<2,>=0.5 from https://files.pythonhosted.org/packages/ce/33/a907b4b67245647746dde8d61e1643ef5d210c88e090d491efd89eff9f95/google_auth_oauthlib-1.1.0-py2.py3-none-any.whl.metadata\n",
      "  Downloading google_auth_oauthlib-1.1.0-py2.py3-none-any.whl.metadata (2.7 kB)\n",
      "Requirement already satisfied: markdown>=2.6.8 in c:\\users\\poulomee roy\\anaconda3\\lib\\site-packages (from tensorboard<2.16,>=2.15->tensorflow-intel==2.15.0->tensorflow) (3.4.1)\n",
      "Collecting protobuf!=4.21.0,!=4.21.1,!=4.21.2,!=4.21.3,!=4.21.4,!=4.21.5,<5.0.0dev,>=3.20.3 (from tensorflow-intel==2.15.0->tensorflow)\n",
      "  Obtaining dependency information for protobuf!=4.21.0,!=4.21.1,!=4.21.2,!=4.21.3,!=4.21.4,!=4.21.5,<5.0.0dev,>=3.20.3 from https://files.pythonhosted.org/packages/80/70/dc63d340d27b8ff22022d7dd14b8d6d68b479a003eacdc4507150a286d9a/protobuf-4.23.4-cp310-abi3-win_amd64.whl.metadata\n",
      "  Downloading protobuf-4.23.4-cp310-abi3-win_amd64.whl.metadata (540 bytes)\n",
      "Requirement already satisfied: requests<3,>=2.21.0 in c:\\users\\poulomee roy\\anaconda3\\lib\\site-packages (from tensorboard<2.16,>=2.15->tensorflow-intel==2.15.0->tensorflow) (2.31.0)\n",
      "Collecting tensorboard-data-server<0.8.0,>=0.7.0 (from tensorboard<2.16,>=2.15->tensorflow-intel==2.15.0->tensorflow)\n",
      "  Obtaining dependency information for tensorboard-data-server<0.8.0,>=0.7.0 from https://files.pythonhosted.org/packages/7a/13/e503968fefabd4c6b2650af21e110aa8466fe21432cd7c43a84577a89438/tensorboard_data_server-0.7.2-py3-none-any.whl.metadata\n",
      "  Downloading tensorboard_data_server-0.7.2-py3-none-any.whl.metadata (1.1 kB)\n",
      "Requirement already satisfied: werkzeug>=1.0.1 in c:\\users\\poulomee roy\\anaconda3\\lib\\site-packages (from tensorboard<2.16,>=2.15->tensorflow-intel==2.15.0->tensorflow) (2.2.3)\n",
      "Collecting cachetools<6.0,>=2.0.0 (from google-auth<3,>=1.6.3->tensorboard<2.16,>=2.15->tensorflow-intel==2.15.0->tensorflow)\n",
      "  Obtaining dependency information for cachetools<6.0,>=2.0.0 from https://files.pythonhosted.org/packages/a2/91/2d843adb9fbd911e0da45fbf6f18ca89d07a087c3daa23e955584f90ebf4/cachetools-5.3.2-py3-none-any.whl.metadata\n",
      "  Downloading cachetools-5.3.2-py3-none-any.whl.metadata (5.2 kB)\n",
      "Requirement already satisfied: pyasn1-modules>=0.2.1 in c:\\users\\poulomee roy\\anaconda3\\lib\\site-packages (from google-auth<3,>=1.6.3->tensorboard<2.16,>=2.15->tensorflow-intel==2.15.0->tensorflow) (0.2.8)\n",
      "Collecting rsa<5,>=3.1.4 (from google-auth<3,>=1.6.3->tensorboard<2.16,>=2.15->tensorflow-intel==2.15.0->tensorflow)\n",
      "  Downloading rsa-4.9-py3-none-any.whl (34 kB)\n",
      "Collecting requests-oauthlib>=0.7.0 (from google-auth-oauthlib<2,>=0.5->tensorboard<2.16,>=2.15->tensorflow-intel==2.15.0->tensorflow)\n",
      "  Downloading requests_oauthlib-1.3.1-py2.py3-none-any.whl (23 kB)\n",
      "Requirement already satisfied: charset-normalizer<4,>=2 in c:\\users\\poulomee roy\\anaconda3\\lib\\site-packages (from requests<3,>=2.21.0->tensorboard<2.16,>=2.15->tensorflow-intel==2.15.0->tensorflow) (2.0.4)\n",
      "Requirement already satisfied: idna<4,>=2.5 in c:\\users\\poulomee roy\\anaconda3\\lib\\site-packages (from requests<3,>=2.21.0->tensorboard<2.16,>=2.15->tensorflow-intel==2.15.0->tensorflow) (3.4)\n",
      "Requirement already satisfied: urllib3<3,>=1.21.1 in c:\\users\\poulomee roy\\anaconda3\\lib\\site-packages (from requests<3,>=2.21.0->tensorboard<2.16,>=2.15->tensorflow-intel==2.15.0->tensorflow) (1.26.16)\n",
      "Requirement already satisfied: certifi>=2017.4.17 in c:\\users\\poulomee roy\\anaconda3\\lib\\site-packages (from requests<3,>=2.21.0->tensorboard<2.16,>=2.15->tensorflow-intel==2.15.0->tensorflow) (2023.7.22)\n",
      "Requirement already satisfied: MarkupSafe>=2.1.1 in c:\\users\\poulomee roy\\anaconda3\\lib\\site-packages (from werkzeug>=1.0.1->tensorboard<2.16,>=2.15->tensorflow-intel==2.15.0->tensorflow) (2.1.1)\n",
      "Requirement already satisfied: pyasn1<0.5.0,>=0.4.6 in c:\\users\\poulomee roy\\anaconda3\\lib\\site-packages (from pyasn1-modules>=0.2.1->google-auth<3,>=1.6.3->tensorboard<2.16,>=2.15->tensorflow-intel==2.15.0->tensorflow) (0.4.8)\n",
      "Collecting oauthlib>=3.0.0 (from requests-oauthlib>=0.7.0->google-auth-oauthlib<2,>=0.5->tensorboard<2.16,>=2.15->tensorflow-intel==2.15.0->tensorflow)\n",
      "  Downloading oauthlib-3.2.2-py3-none-any.whl (151 kB)\n",
      "     ---------------------------------------- 0.0/151.7 kB ? eta -:--:--\n",
      "     ---------------------------------------- 151.7/151.7 kB ? eta 0:00:00\n",
      "Downloading tensorflow-2.15.0-cp311-cp311-win_amd64.whl (2.1 kB)\n",
      "Downloading tensorflow_intel-2.15.0-cp311-cp311-win_amd64.whl (300.9 MB)\n",
      "   ---------------------------------------- 0.0/300.9 MB ? eta -:--:--\n",
      "   ---------------------------------------- 2.0/300.9 MB 41.6 MB/s eta 0:00:08\n",
      "    --------------------------------------- 4.1/300.9 MB 43.7 MB/s eta 0:00:07\n",
      "    --------------------------------------- 6.2/300.9 MB 44.5 MB/s eta 0:00:07\n",
      "   - -------------------------------------- 7.9/300.9 MB 42.4 MB/s eta 0:00:07\n",
      "   - -------------------------------------- 9.7/300.9 MB 41.3 MB/s eta 0:00:08\n",
      "   - -------------------------------------- 11.7/300.9 MB 40.9 MB/s eta 0:00:08\n",
      "   - -------------------------------------- 14.0/300.9 MB 40.9 MB/s eta 0:00:08\n",
      "   -- ------------------------------------- 15.6/300.9 MB 40.9 MB/s eta 0:00:07\n",
      "   -- ------------------------------------- 17.7/300.9 MB 40.9 MB/s eta 0:00:07\n",
      "   -- ------------------------------------- 18.8/300.9 MB 43.7 MB/s eta 0:00:07\n",
      "   -- ------------------------------------- 20.0/300.9 MB 36.4 MB/s eta 0:00:08\n",
      "   -- ------------------------------------- 22.0/300.9 MB 36.4 MB/s eta 0:00:08\n",
      "   --- ------------------------------------ 23.8/300.9 MB 36.4 MB/s eta 0:00:08\n",
      "   --- ------------------------------------ 26.0/300.9 MB 38.6 MB/s eta 0:00:08\n",
      "   --- ------------------------------------ 27.4/300.9 MB 34.4 MB/s eta 0:00:08\n",
      "   --- ------------------------------------ 29.7/300.9 MB 43.7 MB/s eta 0:00:07\n",
      "   ---- ----------------------------------- 31.4/300.9 MB 40.9 MB/s eta 0:00:07\n",
      "   ---- ----------------------------------- 33.3/300.9 MB 40.9 MB/s eta 0:00:07\n",
      "   ---- ----------------------------------- 35.6/300.9 MB 43.5 MB/s eta 0:00:07\n",
      "   ---- ----------------------------------- 37.4/300.9 MB 43.5 MB/s eta 0:00:07\n",
      "   ----- ---------------------------------- 39.6/300.9 MB 43.7 MB/s eta 0:00:06\n",
      "   ----- ---------------------------------- 41.0/300.9 MB 40.9 MB/s eta 0:00:07\n",
      "   ----- ---------------------------------- 42.8/300.9 MB 40.9 MB/s eta 0:00:07\n",
      "   ----- ---------------------------------- 44.2/300.9 MB 38.5 MB/s eta 0:00:07\n",
      "   ------ --------------------------------- 46.6/300.9 MB 40.9 MB/s eta 0:00:07\n",
      "   ------ --------------------------------- 48.6/300.9 MB 38.5 MB/s eta 0:00:07\n",
      "   ------ --------------------------------- 50.5/300.9 MB 38.5 MB/s eta 0:00:07\n",
      "   ------- -------------------------------- 52.8/300.9 MB 43.5 MB/s eta 0:00:06\n",
      "   ------- -------------------------------- 54.8/300.9 MB 43.7 MB/s eta 0:00:06\n",
      "   ------- -------------------------------- 56.6/300.9 MB 43.7 MB/s eta 0:00:06\n",
      "   ------- -------------------------------- 58.7/300.9 MB 43.7 MB/s eta 0:00:06\n",
      "   -------- ------------------------------- 60.6/300.9 MB 43.7 MB/s eta 0:00:06\n",
      "   -------- ------------------------------- 62.3/300.9 MB 40.9 MB/s eta 0:00:06\n",
      "   -------- ------------------------------- 64.7/300.9 MB 43.5 MB/s eta 0:00:06\n",
      "   -------- ------------------------------- 66.3/300.9 MB 40.9 MB/s eta 0:00:06\n",
      "   --------- ------------------------------ 68.3/300.9 MB 40.9 MB/s eta 0:00:06\n",
      "   --------- ------------------------------ 69.3/300.9 MB 38.6 MB/s eta 0:00:06\n",
      "   --------- ------------------------------ 70.0/300.9 MB 36.3 MB/s eta 0:00:07\n",
      "   --------- ------------------------------ 72.1/300.9 MB 34.4 MB/s eta 0:00:07\n",
      "   --------- ------------------------------ 73.6/300.9 MB 34.6 MB/s eta 0:00:07\n",
      "   --------- ------------------------------ 74.8/300.9 MB 31.2 MB/s eta 0:00:08\n",
      "   ---------- ----------------------------- 76.4/300.9 MB 31.2 MB/s eta 0:00:08\n",
      "   ---------- ----------------------------- 78.0/300.9 MB 29.7 MB/s eta 0:00:08\n",
      "   ---------- ----------------------------- 80.0/300.9 MB 32.7 MB/s eta 0:00:07\n",
      "   ---------- ----------------------------- 81.6/300.9 MB 34.6 MB/s eta 0:00:07\n",
      "   ----------- ---------------------------- 83.3/300.9 MB 32.8 MB/s eta 0:00:07\n",
      "   ----------- ---------------------------- 85.0/300.9 MB 36.4 MB/s eta 0:00:06\n",
      "   ----------- ---------------------------- 86.7/300.9 MB 38.6 MB/s eta 0:00:06\n",
      "   ----------- ---------------------------- 88.4/300.9 MB 36.4 MB/s eta 0:00:06\n",
      "   ----------- ---------------------------- 90.1/300.9 MB 36.4 MB/s eta 0:00:06\n",
      "   ------------ --------------------------- 91.2/300.9 MB 36.4 MB/s eta 0:00:06\n",
      "   ------------ --------------------------- 92.3/300.9 MB 32.7 MB/s eta 0:00:07\n",
      "   ------------ --------------------------- 93.3/300.9 MB 32.7 MB/s eta 0:00:07\n",
      "   ------------ --------------------------- 94.7/300.9 MB 31.2 MB/s eta 0:00:07\n",
      "   ------------ --------------------------- 95.3/300.9 MB 28.4 MB/s eta 0:00:08\n",
      "   ------------ --------------------------- 97.1/300.9 MB 28.5 MB/s eta 0:00:08\n",
      "   ------------- -------------------------- 98.1/300.9 MB 27.3 MB/s eta 0:00:08\n",
      "   ------------- -------------------------- 99.5/300.9 MB 26.2 MB/s eta 0:00:08\n",
      "   ------------- ------------------------- 101.7/300.9 MB 28.5 MB/s eta 0:00:07\n",
      "   ------------- ------------------------- 103.1/300.9 MB 29.7 MB/s eta 0:00:07\n",
      "   ------------- ------------------------- 105.3/300.9 MB 36.4 MB/s eta 0:00:06\n",
      "   ------------- ------------------------- 107.0/300.9 MB 34.4 MB/s eta 0:00:06\n",
      "   -------------- ------------------------ 108.2/300.9 MB 36.3 MB/s eta 0:00:06\n",
      "   -------------- ------------------------ 110.1/300.9 MB 38.6 MB/s eta 0:00:05\n",
      "   -------------- ------------------------ 111.9/300.9 MB 36.4 MB/s eta 0:00:06\n",
      "   -------------- ------------------------ 113.4/300.9 MB 36.4 MB/s eta 0:00:06\n",
      "   -------------- ------------------------ 115.2/300.9 MB 36.4 MB/s eta 0:00:06\n",
      "   --------------- ----------------------- 116.8/300.9 MB 34.4 MB/s eta 0:00:06\n",
      "   --------------- ----------------------- 118.6/300.9 MB 36.4 MB/s eta 0:00:06\n",
      "   --------------- ----------------------- 120.4/300.9 MB 38.5 MB/s eta 0:00:05\n",
      "   --------------- ----------------------- 121.8/300.9 MB 36.3 MB/s eta 0:00:05\n",
      "   ---------------- ---------------------- 123.8/300.9 MB 36.4 MB/s eta 0:00:05\n",
      "   ---------------- ---------------------- 125.3/300.9 MB 36.4 MB/s eta 0:00:05\n",
      "   ---------------- ---------------------- 126.7/300.9 MB 38.5 MB/s eta 0:00:05\n",
      "   ---------------- ---------------------- 128.1/300.9 MB 34.4 MB/s eta 0:00:06\n",
      "   ---------------- ---------------------- 130.1/300.9 MB 34.4 MB/s eta 0:00:05\n",
      "   ----------------- --------------------- 132.0/300.9 MB 36.4 MB/s eta 0:00:05\n",
      "   ----------------- --------------------- 133.8/300.9 MB 36.3 MB/s eta 0:00:05\n",
      "   ----------------- --------------------- 134.4/300.9 MB 32.7 MB/s eta 0:00:06\n",
      "   ----------------- --------------------- 136.4/300.9 MB 32.8 MB/s eta 0:00:06\n",
      "   ----------------- --------------------- 137.9/300.9 MB 34.4 MB/s eta 0:00:05\n",
      "   ------------------ -------------------- 139.3/300.9 MB 32.8 MB/s eta 0:00:05\n",
      "   ------------------ -------------------- 141.3/300.9 MB 32.8 MB/s eta 0:00:05\n",
      "   ------------------ -------------------- 142.8/300.9 MB 34.4 MB/s eta 0:00:05\n",
      "   ------------------ -------------------- 144.8/300.9 MB 36.4 MB/s eta 0:00:05\n",
      "   ------------------- ------------------- 146.7/300.9 MB 38.5 MB/s eta 0:00:05\n",
      "   ------------------- ------------------- 148.6/300.9 MB 40.9 MB/s eta 0:00:04\n",
      "   ------------------- ------------------- 150.5/300.9 MB 40.9 MB/s eta 0:00:04\n",
      "   ------------------- ------------------- 152.0/300.9 MB 40.9 MB/s eta 0:00:04\n",
      "   ------------------- ------------------- 153.8/300.9 MB 40.9 MB/s eta 0:00:04\n",
      "   -------------------- ------------------ 155.8/300.9 MB 40.9 MB/s eta 0:00:04\n",
      "   -------------------- ------------------ 157.6/300.9 MB 40.9 MB/s eta 0:00:04\n",
      "   -------------------- ------------------ 158.8/300.9 MB 36.4 MB/s eta 0:00:04\n",
      "   -------------------- ------------------ 160.3/300.9 MB 36.4 MB/s eta 0:00:04\n",
      "   -------------------- ------------------ 161.4/300.9 MB 34.4 MB/s eta 0:00:05\n",
      "   --------------------- ----------------- 163.3/300.9 MB 34.4 MB/s eta 0:00:04\n",
      "   --------------------- ----------------- 164.9/300.9 MB 34.4 MB/s eta 0:00:04\n",
      "   --------------------- ----------------- 166.3/300.9 MB 32.7 MB/s eta 0:00:05\n",
      "   --------------------- ----------------- 168.1/300.9 MB 32.8 MB/s eta 0:00:05\n",
      "   ---------------------- ---------------- 170.3/300.9 MB 34.4 MB/s eta 0:00:04\n",
      "   ---------------------- ---------------- 171.9/300.9 MB 38.6 MB/s eta 0:00:04\n",
      "   ---------------------- ---------------- 173.8/300.9 MB 38.5 MB/s eta 0:00:04\n",
      "   ---------------------- ---------------- 175.5/300.9 MB 38.5 MB/s eta 0:00:04\n",
      "   ---------------------- ---------------- 176.8/300.9 MB 40.9 MB/s eta 0:00:04\n",
      "   ----------------------- --------------- 178.6/300.9 MB 38.5 MB/s eta 0:00:04\n",
      "   ----------------------- --------------- 180.3/300.9 MB 36.3 MB/s eta 0:00:04\n",
      "   ----------------------- --------------- 182.3/300.9 MB 36.4 MB/s eta 0:00:04\n",
      "   ----------------------- --------------- 183.6/300.9 MB 34.4 MB/s eta 0:00:04\n",
      "   ----------------------- --------------- 184.3/300.9 MB 36.4 MB/s eta 0:00:04\n",
      "   ----------------------- --------------- 184.5/300.9 MB 29.7 MB/s eta 0:00:04\n",
      "   ------------------------ -------------- 188.2/300.9 MB 36.4 MB/s eta 0:00:04\n",
      "   ------------------------ -------------- 189.9/300.9 MB 36.4 MB/s eta 0:00:04\n",
      "   ------------------------ -------------- 192.1/300.9 MB 38.5 MB/s eta 0:00:03\n",
      "   ------------------------- ------------- 194.2/300.9 MB 40.9 MB/s eta 0:00:03\n",
      "   ------------------------- ------------- 195.5/300.9 MB 46.7 MB/s eta 0:00:03\n",
      "   ------------------------- ------------- 197.1/300.9 MB 40.9 MB/s eta 0:00:03\n",
      "   ------------------------- ------------- 198.9/300.9 MB 38.5 MB/s eta 0:00:03\n",
      "   ------------------------- ------------- 200.6/300.9 MB 38.6 MB/s eta 0:00:03\n",
      "   -------------------------- ------------ 202.0/300.9 MB 36.4 MB/s eta 0:00:03\n",
      "   -------------------------- ------------ 203.7/300.9 MB 34.4 MB/s eta 0:00:03\n",
      "   -------------------------- ------------ 205.2/300.9 MB 34.4 MB/s eta 0:00:03\n",
      "   -------------------------- ------------ 206.6/300.9 MB 34.4 MB/s eta 0:00:03\n",
      "   -------------------------- ------------ 207.8/300.9 MB 32.7 MB/s eta 0:00:03\n",
      "   --------------------------- ----------- 208.7/300.9 MB 29.7 MB/s eta 0:00:04\n",
      "   --------------------------- ----------- 210.4/300.9 MB 31.1 MB/s eta 0:00:03\n",
      "   --------------------------- ----------- 211.1/300.9 MB 28.5 MB/s eta 0:00:04\n",
      "   --------------------------- ----------- 212.9/300.9 MB 28.5 MB/s eta 0:00:04\n",
      "   --------------------------- ----------- 214.5/300.9 MB 28.5 MB/s eta 0:00:04\n",
      "   ---------------------------- ---------- 216.6/300.9 MB 31.2 MB/s eta 0:00:03\n",
      "   ---------------------------- ---------- 217.6/300.9 MB 29.7 MB/s eta 0:00:03\n",
      "   ---------------------------- ---------- 217.8/300.9 MB 29.7 MB/s eta 0:00:03\n",
      "   ---------------------------- ---------- 220.8/300.9 MB 32.7 MB/s eta 0:00:03\n",
      "   ---------------------------- ---------- 222.5/300.9 MB 34.4 MB/s eta 0:00:03\n",
      "   ----------------------------- --------- 224.1/300.9 MB 36.4 MB/s eta 0:00:03\n",
      "   ----------------------------- --------- 226.0/300.9 MB 34.4 MB/s eta 0:00:03\n",
      "   ----------------------------- --------- 227.1/300.9 MB 32.8 MB/s eta 0:00:03\n",
      "   ----------------------------- --------- 229.0/300.9 MB 38.5 MB/s eta 0:00:02\n",
      "   ----------------------------- --------- 230.9/300.9 MB 36.4 MB/s eta 0:00:02\n",
      "   ------------------------------ -------- 231.8/300.9 MB 34.4 MB/s eta 0:00:03\n",
      "   ------------------------------ -------- 232.6/300.9 MB 32.8 MB/s eta 0:00:03\n",
      "   ------------------------------ -------- 233.7/300.9 MB 28.4 MB/s eta 0:00:03\n",
      "   ------------------------------ -------- 234.9/300.9 MB 29.7 MB/s eta 0:00:03\n",
      "   ------------------------------ -------- 236.3/300.9 MB 28.5 MB/s eta 0:00:03\n",
      "   ------------------------------ -------- 237.8/300.9 MB 28.4 MB/s eta 0:00:03\n",
      "   ------------------------------- ------- 239.5/300.9 MB 28.5 MB/s eta 0:00:03\n",
      "   ------------------------------- ------- 241.0/300.9 MB 28.5 MB/s eta 0:00:03\n",
      "   ------------------------------- ------- 242.5/300.9 MB 29.7 MB/s eta 0:00:02\n",
      "   ------------------------------- ------- 244.1/300.9 MB 34.4 MB/s eta 0:00:02\n",
      "   ------------------------------- ------- 245.6/300.9 MB 34.4 MB/s eta 0:00:02\n",
      "   -------------------------------- ------ 247.3/300.9 MB 34.4 MB/s eta 0:00:02\n",
      "   -------------------------------- ------ 249.3/300.9 MB 36.3 MB/s eta 0:00:02\n",
      "   -------------------------------- ------ 250.7/300.9 MB 34.4 MB/s eta 0:00:02\n",
      "   -------------------------------- ------ 252.5/300.9 MB 36.4 MB/s eta 0:00:02\n",
      "   -------------------------------- ------ 254.1/300.9 MB 36.4 MB/s eta 0:00:02\n",
      "   --------------------------------- ----- 255.7/300.9 MB 36.4 MB/s eta 0:00:02\n",
      "   --------------------------------- ----- 257.4/300.9 MB 36.4 MB/s eta 0:00:02\n",
      "   --------------------------------- ----- 259.5/300.9 MB 36.4 MB/s eta 0:00:02\n",
      "   --------------------------------- ----- 260.8/300.9 MB 36.4 MB/s eta 0:00:02\n",
      "   --------------------------------- ----- 262.3/300.9 MB 36.3 MB/s eta 0:00:02\n",
      "   ---------------------------------- ---- 264.0/300.9 MB 36.3 MB/s eta 0:00:02\n",
      "   ---------------------------------- ---- 265.8/300.9 MB 36.4 MB/s eta 0:00:01\n",
      "   ---------------------------------- ---- 267.5/300.9 MB 36.4 MB/s eta 0:00:01\n",
      "   ---------------------------------- ---- 269.1/300.9 MB 36.4 MB/s eta 0:00:01\n",
      "   ----------------------------------- --- 270.9/300.9 MB 36.4 MB/s eta 0:00:01\n",
      "   ----------------------------------- --- 272.5/300.9 MB 36.4 MB/s eta 0:00:01\n",
      "   ----------------------------------- --- 273.9/300.9 MB 36.4 MB/s eta 0:00:01\n",
      "   ----------------------------------- --- 275.4/300.9 MB 34.4 MB/s eta 0:00:01\n",
      "   ----------------------------------- --- 276.9/300.9 MB 36.4 MB/s eta 0:00:01\n",
      "   ------------------------------------ -- 278.5/300.9 MB 32.8 MB/s eta 0:00:01\n",
      "   ------------------------------------ -- 280.0/300.9 MB 32.8 MB/s eta 0:00:01\n",
      "   ------------------------------------ -- 281.5/300.9 MB 32.8 MB/s eta 0:00:01\n",
      "   ------------------------------------ -- 282.9/300.9 MB 32.8 MB/s eta 0:00:01\n",
      "   ------------------------------------ -- 283.9/300.9 MB 32.8 MB/s eta 0:00:01\n",
      "   ------------------------------------- - 285.7/300.9 MB 32.8 MB/s eta 0:00:01\n",
      "   ------------------------------------- - 287.4/300.9 MB 32.8 MB/s eta 0:00:01\n",
      "   ------------------------------------- - 288.9/300.9 MB 32.7 MB/s eta 0:00:01\n",
      "   ------------------------------------- - 290.7/300.9 MB 34.4 MB/s eta 0:00:01\n",
      "   ------------------------------------- - 292.6/300.9 MB 34.4 MB/s eta 0:00:01\n",
      "   --------------------------------------  294.3/300.9 MB 38.5 MB/s eta 0:00:01\n",
      "   --------------------------------------  296.1/300.9 MB 38.6 MB/s eta 0:00:01\n",
      "   --------------------------------------  297.8/300.9 MB 38.6 MB/s eta 0:00:01\n",
      "   --------------------------------------  299.2/300.9 MB 38.6 MB/s eta 0:00:01\n",
      "   --------------------------------------  300.9/300.9 MB 36.4 MB/s eta 0:00:01\n",
      "   --------------------------------------  300.9/300.9 MB 36.4 MB/s eta 0:00:01\n",
      "   --------------------------------------  300.9/300.9 MB 36.4 MB/s eta 0:00:01\n",
      "   --------------------------------------  300.9/300.9 MB 36.4 MB/s eta 0:00:01\n",
      "   --------------------------------------  300.9/300.9 MB 36.4 MB/s eta 0:00:01\n",
      "   --------------------------------------  300.9/300.9 MB 36.4 MB/s eta 0:00:01\n",
      "   --------------------------------------  300.9/300.9 MB 36.4 MB/s eta 0:00:01\n",
      "   --------------------------------------  300.9/300.9 MB 36.4 MB/s eta 0:00:01\n",
      "   --------------------------------------  300.9/300.9 MB 36.4 MB/s eta 0:00:01\n",
      "   --------------------------------------  300.9/300.9 MB 36.4 MB/s eta 0:00:01\n",
      "   --------------------------------------  300.9/300.9 MB 36.4 MB/s eta 0:00:01\n",
      "   --------------------------------------  300.9/300.9 MB 36.4 MB/s eta 0:00:01\n",
      "   --------------------------------------  300.9/300.9 MB 36.4 MB/s eta 0:00:01\n",
      "   --------------------------------------  300.9/300.9 MB 36.4 MB/s eta 0:00:01\n",
      "   ---------------------------------------- 300.9/300.9 MB 6.1 MB/s eta 0:00:00\n",
      "Downloading absl_py-2.0.0-py3-none-any.whl (130 kB)\n",
      "   ---------------------------------------- 0.0/130.2 kB ? eta -:--:--\n",
      "   ------------------------------------- -- 122.9/130.2 kB ? eta -:--:--\n",
      "   ---------------------------------------- 130.2/130.2 kB 1.5 MB/s eta 0:00:00\n",
      "Downloading flatbuffers-23.5.26-py2.py3-none-any.whl (26 kB)\n",
      "Downloading grpcio-1.59.3-cp311-cp311-win_amd64.whl (3.7 MB)\n",
      "   ---------------------------------------- 0.0/3.7 MB ? eta -:--:--\n",
      "   ----------------- ---------------------- 1.6/3.7 MB 33.3 MB/s eta 0:00:01\n",
      "   ----------------------------- ---------- 2.7/3.7 MB 34.9 MB/s eta 0:00:01\n",
      "   ---------------------------------------  3.7/3.7 MB 29.2 MB/s eta 0:00:01\n",
      "   ---------------------------------------- 3.7/3.7 MB 26.0 MB/s eta 0:00:00\n",
      "Downloading keras-2.15.0-py3-none-any.whl (1.7 MB)\n",
      "   ---------------------------------------- 0.0/1.7 MB ? eta -:--:--\n",
      "   -------------------------------- ------- 1.4/1.7 MB 29.0 MB/s eta 0:00:01\n",
      "   ---------------------------------------- 1.7/1.7 MB 27.0 MB/s eta 0:00:00\n",
      "Downloading libclang-16.0.6-py2.py3-none-win_amd64.whl (24.4 MB)\n",
      "   ---------------------------------------- 0.0/24.4 MB ? eta -:--:--\n",
      "   -- ------------------------------------- 1.5/24.4 MB 47.7 MB/s eta 0:00:01\n",
      "   ----- ---------------------------------- 3.3/24.4 MB 35.1 MB/s eta 0:00:01\n",
      "   ----- ---------------------------------- 3.5/24.4 MB 24.9 MB/s eta 0:00:01\n",
      "   ------- -------------------------------- 4.3/24.4 MB 24.9 MB/s eta 0:00:01\n",
      "   -------- ------------------------------- 4.9/24.4 MB 21.0 MB/s eta 0:00:01\n",
      "   --------- ------------------------------ 6.0/24.4 MB 22.5 MB/s eta 0:00:01\n",
      "   ----------- ---------------------------- 7.2/24.4 MB 23.0 MB/s eta 0:00:01\n",
      "   ------------ --------------------------- 7.9/24.4 MB 21.8 MB/s eta 0:00:01\n",
      "   --------------- ------------------------ 9.5/24.4 MB 23.4 MB/s eta 0:00:01\n",
      "   ------------------ --------------------- 11.0/24.4 MB 23.4 MB/s eta 0:00:01\n",
      "   -------------------- ------------------- 12.3/24.4 MB 23.4 MB/s eta 0:00:01\n",
      "   --------------------- ------------------ 13.3/24.4 MB 21.9 MB/s eta 0:00:01\n",
      "   ------------------------ --------------- 14.9/24.4 MB 27.3 MB/s eta 0:00:01\n",
      "   -------------------------- ------------- 16.5/24.4 MB 28.5 MB/s eta 0:00:01\n",
      "   ----------------------------- ---------- 18.3/24.4 MB 32.7 MB/s eta 0:00:01\n",
      "   -------------------------------- ------- 20.1/24.4 MB 34.4 MB/s eta 0:00:01\n",
      "   ---------------------------------- ----- 20.8/24.4 MB 31.2 MB/s eta 0:00:01\n",
      "   ------------------------------------- -- 22.8/24.4 MB 36.3 MB/s eta 0:00:01\n",
      "   ---------------------------------------  24.4/24.4 MB 34.6 MB/s eta 0:00:01\n",
      "   ---------------------------------------  24.4/24.4 MB 34.6 MB/s eta 0:00:01\n",
      "   ---------------------------------------- 24.4/24.4 MB 28.5 MB/s eta 0:00:00\n",
      "Downloading ml_dtypes-0.2.0-cp311-cp311-win_amd64.whl (938 kB)\n",
      "   ---------------------------------------- 0.0/938.7 kB ? eta -:--:--\n",
      "   --------------------------------------- 938.7/938.7 kB 30.0 MB/s eta 0:00:00\n",
      "Downloading tensorboard-2.15.1-py3-none-any.whl (5.5 MB)\n",
      "   ---------------------------------------- 0.0/5.5 MB ? eta -:--:--\n",
      "   -------- ------------------------------- 1.1/5.5 MB 75.8 MB/s eta 0:00:01\n",
      "   ------------------------ --------------- 3.4/5.5 MB 44.0 MB/s eta 0:00:01\n",
      "   ------------------------------------- -- 5.1/5.5 MB 41.0 MB/s eta 0:00:01\n",
      "   ------------------------------------- -- 5.1/5.5 MB 41.0 MB/s eta 0:00:01\n",
      "   ---------------------------------------- 5.5/5.5 MB 27.2 MB/s eta 0:00:00\n",
      "Downloading protobuf-4.23.4-cp310-abi3-win_amd64.whl (422 kB)\n",
      "   ---------------------------------------- 0.0/422.5 kB ? eta -:--:--\n",
      "   --------------------------------------- 422.5/422.5 kB 25.8 MB/s eta 0:00:00\n",
      "Downloading tensorflow_estimator-2.15.0-py2.py3-none-any.whl (441 kB)\n",
      "   ---------------------------------------- 0.0/442.0 kB ? eta -:--:--\n",
      "   --------------------------------------- 442.0/442.0 kB 27.0 MB/s eta 0:00:00\n",
      "Downloading termcolor-2.4.0-py3-none-any.whl (7.7 kB)\n",
      "Downloading google_auth-2.24.0-py2.py3-none-any.whl (183 kB)\n",
      "   ---------------------------------------- 0.0/183.8 kB ? eta -:--:--\n",
      "   ---------------------------------------- 183.8/183.8 kB ? eta 0:00:00\n",
      "Downloading google_auth_oauthlib-1.1.0-py2.py3-none-any.whl (19 kB)\n",
      "Downloading tensorboard_data_server-0.7.2-py3-none-any.whl (2.4 kB)\n",
      "Downloading cachetools-5.3.2-py3-none-any.whl (9.3 kB)\n",
      "Installing collected packages: libclang, flatbuffers, termcolor, tensorflow-io-gcs-filesystem, tensorflow-estimator, tensorboard-data-server, rsa, protobuf, opt-einsum, oauthlib, ml-dtypes, keras, grpcio, google-pasta, gast, cachetools, astunparse, absl-py, requests-oauthlib, google-auth, google-auth-oauthlib, tensorboard, tensorflow-intel, tensorflow\n",
      "Successfully installed absl-py-2.0.0 astunparse-1.6.3 cachetools-5.3.2 flatbuffers-23.5.26 gast-0.5.4 google-auth-2.24.0 google-auth-oauthlib-1.1.0 google-pasta-0.2.0 grpcio-1.59.3 keras-2.15.0 libclang-16.0.6 ml-dtypes-0.2.0 oauthlib-3.2.2 opt-einsum-3.3.0 protobuf-4.23.4 requests-oauthlib-1.3.1 rsa-4.9 tensorboard-2.15.1 tensorboard-data-server-0.7.2 tensorflow-2.15.0 tensorflow-estimator-2.15.0 tensorflow-intel-2.15.0 tensorflow-io-gcs-filesystem-0.31.0 termcolor-2.4.0\n"
     ]
    }
   ],
   "source": [
    "#pip install stats\n",
    "#!pip install catboost\n",
    "#!pip install lightgbm\n",
    "#!pip install pandas-profiling\n",
    "#!pip install --upgrade scikit-learn imbalanced-learn\n",
    "#!pip install mlxtend\n",
    "#!pip install imbalanced-learn\n",
    "#!pip install tensorflow\n"
   ]
  },
  {
   "cell_type": "code",
   "execution_count": 1,
   "id": "499d7ab5",
   "metadata": {},
   "outputs": [
    {
     "name": "stdout",
     "output_type": "stream",
     "text": [
      "C:/Users/Poulomee Roy/Documents/Academics/Statistical Machine Learning/Research paper/Diabetes\\.Rhistory\n",
      "C:/Users/Poulomee Roy/Documents/Academics/Statistical Machine Learning/Research paper/Diabetes\\code-checkpoint.ipynb\n",
      "C:/Users/Poulomee Roy/Documents/Academics/Statistical Machine Learning/Research paper/Diabetes\\code.ipynb\n",
      "C:/Users/Poulomee Roy/Documents/Academics/Statistical Machine Learning/Research paper/Diabetes\\diabetes_data.csv\n",
      "C:/Users/Poulomee Roy/Documents/Academics/Statistical Machine Learning/Research paper/Diabetes\\diabetes_data1.csv\n",
      "C:/Users/Poulomee Roy/Documents/Academics/Statistical Machine Learning/Research paper/Diabetes\\Diabetes_data1.xlsx\n",
      "C:/Users/Poulomee Roy/Documents/Academics/Statistical Machine Learning/Research paper/Diabetes\\Group-1 Diabetes prediction.pptx\n",
      "C:/Users/Poulomee Roy/Documents/Academics/Statistical Machine Learning/Research paper/Diabetes\\hypertension_data.csv\n",
      "C:/Users/Poulomee Roy/Documents/Academics/Statistical Machine Learning/Research paper/Diabetes\\Poulomee_statistical_ML_Project Phase II.pdf\n",
      "C:/Users/Poulomee Roy/Documents/Academics/Statistical Machine Learning/Research paper/Diabetes\\Project phase II code SML_poulomee.ipynb\n",
      "C:/Users/Poulomee Roy/Documents/Academics/Statistical Machine Learning/Research paper/Diabetes\\stroke_data.csv\n",
      "C:/Users/Poulomee Roy/Documents/Academics/Statistical Machine Learning/Research paper/Diabetes\\.ipynb_checkpoints\\code-checkpoint.ipynb\n",
      "C:/Users/Poulomee Roy/Documents/Academics/Statistical Machine Learning/Research paper/Diabetes\\.ipynb_checkpoints\\Project phase II code SML_poulomee-checkpoint.ipynb\n"
     ]
    }
   ],
   "source": [
    "# This Python 3 environment comes with many helpful analytics libraries installed\n",
    "# It is defined by the kaggle/python Docker image: https://github.com/kaggle/docker-python\n",
    "# For example, here's several helpful packages to load\n",
    "\n",
    "import numpy as np # linear algebra\n",
    "import pandas as pd # data processing, CSV file I/O (e.g. pd.read_csv)\n",
    "import math\n",
    "\n",
    "# Input data files are available in the read-only \"../input/\" directory\n",
    "# For example, running this (by clicking run or pressing Shift+Enter) will list all files under the input directory\n",
    "\n",
    "import os\n",
    "for dirname, _, filenames in os.walk('C:/Users/Poulomee Roy/Documents/Academics/Statistical Machine Learning/Research paper/Diabetes'):\n",
    "    for filename in filenames:\n",
    "        print(os.path.join(dirname, filename))\n",
    "        \n",
    "# You can write up to 20GB to the current directory (/kaggle/working/) that gets preserved as output when you create a version using \"Save & Run All\" \n",
    "# You can also write temporary files to /kaggle/temp/, but they won't be saved outside of the current session"
   ]
  },
  {
   "cell_type": "code",
   "execution_count": 2,
   "id": "c137dd3c",
   "metadata": {},
   "outputs": [],
   "source": [
    "import pandas as pd\n",
    "import numpy as np\n",
    "import seaborn as sns\n",
    "import matplotlib.pyplot as plt\n",
    "%matplotlib inline\n",
    "\n",
    "## For statistical test\n",
    "from scipy.stats import chisquare, chi2_contingency ## Stastical test\n",
    "from scipy.stats import probplot\n",
    "from scipy import stats\n",
    "from sklearn.feature_selection import SelectKBest\n",
    "from sklearn.feature_selection import chi2"
   ]
  },
  {
   "cell_type": "code",
   "execution_count": 3,
   "id": "7b8cef8a",
   "metadata": {},
   "outputs": [
    {
     "name": "stdout",
     "output_type": "stream",
     "text": [
      "WARNING:tensorflow:From C:\\Users\\Poulomee Roy\\anaconda3\\Lib\\site-packages\\keras\\src\\losses.py:2976: The name tf.losses.sparse_softmax_cross_entropy is deprecated. Please use tf.compat.v1.losses.sparse_softmax_cross_entropy instead.\n",
      "\n"
     ]
    }
   ],
   "source": [
    "## machine learning libary\n",
    "from sklearn.model_selection import train_test_split, StratifiedKFold\n",
    "from sklearn.metrics import roc_auc_score, classification_report, confusion_matrix, precision_recall_fscore_support,roc_curve\n",
    "from catboost import CatBoostClassifier\n",
    "from lightgbm import LGBMClassifier\n",
    "from xgboost import XGBClassifier\n",
    "from sklearn.ensemble import RandomForestClassifier, GradientBoostingClassifier\n",
    "from sklearn.tree import DecisionTreeClassifier, ExtraTreeClassifier\n",
    "from sklearn.linear_model import LogisticRegression, RidgeClassifier\n",
    "from sklearn.naive_bayes import GaussianNB\n",
    "from sklearn.svm import SVC\n",
    "from sklearn.datasets import make_classification\n",
    "from sklearn.feature_selection import SelectKBest\n",
    "from sklearn.feature_selection import f_classif\n",
    "from sklearn.model_selection import train_test_split\n",
    "from imblearn.over_sampling import SMOTE\n",
    "\n",
    "from sklearn.metrics import confusion_matrix,roc_curve, classification_report\n",
    "from sklearn.metrics import mean_absolute_error , mean_absolute_percentage_error , mean_squared_error , accuracy_score\n",
    "from mlxtend.plotting import plot_confusion_matrix\n",
    "from sklearn.ensemble import RandomForestClassifier\n",
    "from sklearn.neighbors import KNeighborsClassifier\n",
    "from sklearn.tree import DecisionTreeClassifier\n",
    "from sklearn.linear_model import LogisticRegression\n",
    "%matplotlib inline\n",
    "import tensorflow as tf\n",
    "import warnings\n",
    "\n",
    "from sklearn.model_selection import train_test_split\n",
    "from sklearn.metrics import roc_auc_score"
   ]
  },
  {
   "cell_type": "code",
   "execution_count": 57,
   "id": "2adffbdf",
   "metadata": {},
   "outputs": [],
   "source": [
    "#!pip install --upgrade scikit-learn\n",
    "\n",
    "#from sklearn.metrics import confusion_matrix, plot_roc_curve, roc_auc_score\n",
    "#from imblearn.over_sampling import SMOTE"
   ]
  },
  {
   "cell_type": "code",
   "execution_count": 4,
   "id": "9d9ef93d",
   "metadata": {},
   "outputs": [],
   "source": [
    "df1 = pd.read_csv('C:/Users/Poulomee Roy/Documents/Academics/Statistical Machine Learning/Research paper/Diabetes/diabetes_data1.csv')"
   ]
  },
  {
   "cell_type": "code",
   "execution_count": 5,
   "id": "86027ad8",
   "metadata": {},
   "outputs": [],
   "source": [
    "#Importing Visualization library\n",
    "\n",
    "import seaborn as sns\n",
    "import matplotlib.pyplot as plt\n",
    "import warnings\n",
    "import plotly.express as px\n",
    "px_template = \"pink\""
   ]
  },
  {
   "cell_type": "markdown",
   "id": "c5bea3db",
   "metadata": {},
   "source": [
    "# Modeling"
   ]
  },
  {
   "cell_type": "markdown",
   "id": "3ceb8f5a",
   "metadata": {},
   "source": [
    "Logistic Regression"
   ]
  },
  {
   "cell_type": "code",
   "execution_count": 71,
   "id": "16410706",
   "metadata": {},
   "outputs": [
    {
     "data": {
      "text/html": [
       "<style>#sk-container-id-1 {color: black;}#sk-container-id-1 pre{padding: 0;}#sk-container-id-1 div.sk-toggleable {background-color: white;}#sk-container-id-1 label.sk-toggleable__label {cursor: pointer;display: block;width: 100%;margin-bottom: 0;padding: 0.3em;box-sizing: border-box;text-align: center;}#sk-container-id-1 label.sk-toggleable__label-arrow:before {content: \"▸\";float: left;margin-right: 0.25em;color: #696969;}#sk-container-id-1 label.sk-toggleable__label-arrow:hover:before {color: black;}#sk-container-id-1 div.sk-estimator:hover label.sk-toggleable__label-arrow:before {color: black;}#sk-container-id-1 div.sk-toggleable__content {max-height: 0;max-width: 0;overflow: hidden;text-align: left;background-color: #f0f8ff;}#sk-container-id-1 div.sk-toggleable__content pre {margin: 0.2em;color: black;border-radius: 0.25em;background-color: #f0f8ff;}#sk-container-id-1 input.sk-toggleable__control:checked~div.sk-toggleable__content {max-height: 200px;max-width: 100%;overflow: auto;}#sk-container-id-1 input.sk-toggleable__control:checked~label.sk-toggleable__label-arrow:before {content: \"▾\";}#sk-container-id-1 div.sk-estimator input.sk-toggleable__control:checked~label.sk-toggleable__label {background-color: #d4ebff;}#sk-container-id-1 div.sk-label input.sk-toggleable__control:checked~label.sk-toggleable__label {background-color: #d4ebff;}#sk-container-id-1 input.sk-hidden--visually {border: 0;clip: rect(1px 1px 1px 1px);clip: rect(1px, 1px, 1px, 1px);height: 1px;margin: -1px;overflow: hidden;padding: 0;position: absolute;width: 1px;}#sk-container-id-1 div.sk-estimator {font-family: monospace;background-color: #f0f8ff;border: 1px dotted black;border-radius: 0.25em;box-sizing: border-box;margin-bottom: 0.5em;}#sk-container-id-1 div.sk-estimator:hover {background-color: #d4ebff;}#sk-container-id-1 div.sk-parallel-item::after {content: \"\";width: 100%;border-bottom: 1px solid gray;flex-grow: 1;}#sk-container-id-1 div.sk-label:hover label.sk-toggleable__label {background-color: #d4ebff;}#sk-container-id-1 div.sk-serial::before {content: \"\";position: absolute;border-left: 1px solid gray;box-sizing: border-box;top: 0;bottom: 0;left: 50%;z-index: 0;}#sk-container-id-1 div.sk-serial {display: flex;flex-direction: column;align-items: center;background-color: white;padding-right: 0.2em;padding-left: 0.2em;position: relative;}#sk-container-id-1 div.sk-item {position: relative;z-index: 1;}#sk-container-id-1 div.sk-parallel {display: flex;align-items: stretch;justify-content: center;background-color: white;position: relative;}#sk-container-id-1 div.sk-item::before, #sk-container-id-1 div.sk-parallel-item::before {content: \"\";position: absolute;border-left: 1px solid gray;box-sizing: border-box;top: 0;bottom: 0;left: 50%;z-index: -1;}#sk-container-id-1 div.sk-parallel-item {display: flex;flex-direction: column;z-index: 1;position: relative;background-color: white;}#sk-container-id-1 div.sk-parallel-item:first-child::after {align-self: flex-end;width: 50%;}#sk-container-id-1 div.sk-parallel-item:last-child::after {align-self: flex-start;width: 50%;}#sk-container-id-1 div.sk-parallel-item:only-child::after {width: 0;}#sk-container-id-1 div.sk-dashed-wrapped {border: 1px dashed gray;margin: 0 0.4em 0.5em 0.4em;box-sizing: border-box;padding-bottom: 0.4em;background-color: white;}#sk-container-id-1 div.sk-label label {font-family: monospace;font-weight: bold;display: inline-block;line-height: 1.2em;}#sk-container-id-1 div.sk-label-container {text-align: center;}#sk-container-id-1 div.sk-container {/* jupyter's `normalize.less` sets `[hidden] { display: none; }` but bootstrap.min.css set `[hidden] { display: none !important; }` so we also need the `!important` here to be able to override the default hidden behavior on the sphinx rendered scikit-learn.org. See: https://github.com/scikit-learn/scikit-learn/issues/21755 */display: inline-block !important;position: relative;}#sk-container-id-1 div.sk-text-repr-fallback {display: none;}</style><div id=\"sk-container-id-1\" class=\"sk-top-container\"><div class=\"sk-text-repr-fallback\"><pre>LogisticRegression(max_iter=1500)</pre><b>In a Jupyter environment, please rerun this cell to show the HTML representation or trust the notebook. <br />On GitHub, the HTML representation is unable to render, please try loading this page with nbviewer.org.</b></div><div class=\"sk-container\" hidden><div class=\"sk-item\"><div class=\"sk-estimator sk-toggleable\"><input class=\"sk-toggleable__control sk-hidden--visually\" id=\"sk-estimator-id-1\" type=\"checkbox\" checked><label for=\"sk-estimator-id-1\" class=\"sk-toggleable__label sk-toggleable__label-arrow\">LogisticRegression</label><div class=\"sk-toggleable__content\"><pre>LogisticRegression(max_iter=1500)</pre></div></div></div></div></div>"
      ],
      "text/plain": [
       "LogisticRegression(max_iter=1500)"
      ]
     },
     "execution_count": 71,
     "metadata": {},
     "output_type": "execute_result"
    }
   ],
   "source": [
    "lgr = LogisticRegression(max_iter = 1500)\n",
    "lgr.fit(X_train , Y_train)"
   ]
  },
  {
   "cell_type": "code",
   "execution_count": 72,
   "id": "e912e3c8",
   "metadata": {},
   "outputs": [
    {
     "name": "stdout",
     "output_type": "stream",
     "text": [
      "Training set score: 0.8509\n",
      "Test set score: 0.8468\n"
     ]
    }
   ],
   "source": [
    "# make predictions on test set\n",
    "y_pred_lgr=lgr.predict(X_test)\n",
    "\n",
    "print('Training set score: {:.4f}'.format(lgr.score(X_train, Y_train)))\n",
    "\n",
    "print('Test set score: {:.4f}'.format(lgr.score(X_test, Y_test)))"
   ]
  },
  {
   "cell_type": "code",
   "execution_count": 73,
   "id": "e262337a",
   "metadata": {},
   "outputs": [
    {
     "name": "stdout",
     "output_type": "stream",
     "text": [
      "Mean Squared Error : 0.15318866043021986\n",
      "Root Mean Squared Error : 0.39139322992384507\n"
     ]
    }
   ],
   "source": [
    "#check MSE & RMSE \n",
    "#mse =mean_squared_error(Y_test, y_pred_lgr)\n",
    "#print('Mean Squared Error : '+ str(mse))\n",
    "#rmse = math.sqrt(mean_squared_error(Y_test, y_pred_lgr))\n",
    "#print('Root Mean Squared Error : '+ str(rmse))"
   ]
  },
  {
   "cell_type": "code",
   "execution_count": 89,
   "id": "62a61c28",
   "metadata": {},
   "outputs": [
    {
     "name": "stdout",
     "output_type": "stream",
     "text": [
      "              precision    recall  f1-score   support\n",
      "\n",
      "           0       0.80      0.93      0.86     10468\n",
      "           1       0.92      0.76      0.83     10591\n",
      "\n",
      "    accuracy                           0.85     21059\n",
      "   macro avg       0.86      0.85      0.85     21059\n",
      "weighted avg       0.86      0.85      0.85     21059\n",
      "\n"
     ]
    }
   ],
   "source": [
    "matrix = classification_report(Y_test,y_pred_lgr )\n",
    "print(matrix)"
   ]
  },
  {
   "cell_type": "code",
   "execution_count": 90,
   "id": "b2a64d2f",
   "metadata": {},
   "outputs": [
    {
     "data": {
      "image/png": "[encoded data removed]",
      "text/plain": [
       "<Figure size 640x480 with 2 Axes>"
      ]
     },
     "metadata": {},
     "output_type": "display_data"
    }
   ],
   "source": [
    "# calculating and plotting the confusion matrix\n",
    "cm1 = confusion_matrix(Y_test,y_pred_lgr)\n",
    "plot_confusion_matrix(conf_mat=cm1,show_absolute=True,\n",
    "                                show_normed=True,\n",
    "                                colorbar=True)\n",
    "plt.show()"
   ]
  },
  {
   "cell_type": "markdown",
   "id": "8222635d",
   "metadata": {},
   "source": [
    "Decision Tree Model"
   ]
  },
  {
   "cell_type": "code",
   "execution_count": 91,
   "id": "713677a7",
   "metadata": {},
   "outputs": [
    {
     "data": {
      "text/html": [
       "<style>#sk-container-id-2 {color: black;}#sk-container-id-2 pre{padding: 0;}#sk-container-id-2 div.sk-toggleable {background-color: white;}#sk-container-id-2 label.sk-toggleable__label {cursor: pointer;display: block;width: 100%;margin-bottom: 0;padding: 0.3em;box-sizing: border-box;text-align: center;}#sk-container-id-2 label.sk-toggleable__label-arrow:before {content: \"▸\";float: left;margin-right: 0.25em;color: #696969;}#sk-container-id-2 label.sk-toggleable__label-arrow:hover:before {color: black;}#sk-container-id-2 div.sk-estimator:hover label.sk-toggleable__label-arrow:before {color: black;}#sk-container-id-2 div.sk-toggleable__content {max-height: 0;max-width: 0;overflow: hidden;text-align: left;background-color: #f0f8ff;}#sk-container-id-2 div.sk-toggleable__content pre {margin: 0.2em;color: black;border-radius: 0.25em;background-color: #f0f8ff;}#sk-container-id-2 input.sk-toggleable__control:checked~div.sk-toggleable__content {max-height: 200px;max-width: 100%;overflow: auto;}#sk-container-id-2 input.sk-toggleable__control:checked~label.sk-toggleable__label-arrow:before {content: \"▾\";}#sk-container-id-2 div.sk-estimator input.sk-toggleable__control:checked~label.sk-toggleable__label {background-color: #d4ebff;}#sk-container-id-2 div.sk-label input.sk-toggleable__control:checked~label.sk-toggleable__label {background-color: #d4ebff;}#sk-container-id-2 input.sk-hidden--visually {border: 0;clip: rect(1px 1px 1px 1px);clip: rect(1px, 1px, 1px, 1px);height: 1px;margin: -1px;overflow: hidden;padding: 0;position: absolute;width: 1px;}#sk-container-id-2 div.sk-estimator {font-family: monospace;background-color: #f0f8ff;border: 1px dotted black;border-radius: 0.25em;box-sizing: border-box;margin-bottom: 0.5em;}#sk-container-id-2 div.sk-estimator:hover {background-color: #d4ebff;}#sk-container-id-2 div.sk-parallel-item::after {content: \"\";width: 100%;border-bottom: 1px solid gray;flex-grow: 1;}#sk-container-id-2 div.sk-label:hover label.sk-toggleable__label {background-color: #d4ebff;}#sk-container-id-2 div.sk-serial::before {content: \"\";position: absolute;border-left: 1px solid gray;box-sizing: border-box;top: 0;bottom: 0;left: 50%;z-index: 0;}#sk-container-id-2 div.sk-serial {display: flex;flex-direction: column;align-items: center;background-color: white;padding-right: 0.2em;padding-left: 0.2em;position: relative;}#sk-container-id-2 div.sk-item {position: relative;z-index: 1;}#sk-container-id-2 div.sk-parallel {display: flex;align-items: stretch;justify-content: center;background-color: white;position: relative;}#sk-container-id-2 div.sk-item::before, #sk-container-id-2 div.sk-parallel-item::before {content: \"\";position: absolute;border-left: 1px solid gray;box-sizing: border-box;top: 0;bottom: 0;left: 50%;z-index: -1;}#sk-container-id-2 div.sk-parallel-item {display: flex;flex-direction: column;z-index: 1;position: relative;background-color: white;}#sk-container-id-2 div.sk-parallel-item:first-child::after {align-self: flex-end;width: 50%;}#sk-container-id-2 div.sk-parallel-item:last-child::after {align-self: flex-start;width: 50%;}#sk-container-id-2 div.sk-parallel-item:only-child::after {width: 0;}#sk-container-id-2 div.sk-dashed-wrapped {border: 1px dashed gray;margin: 0 0.4em 0.5em 0.4em;box-sizing: border-box;padding-bottom: 0.4em;background-color: white;}#sk-container-id-2 div.sk-label label {font-family: monospace;font-weight: bold;display: inline-block;line-height: 1.2em;}#sk-container-id-2 div.sk-label-container {text-align: center;}#sk-container-id-2 div.sk-container {/* jupyter's `normalize.less` sets `[hidden] { display: none; }` but bootstrap.min.css set `[hidden] { display: none !important; }` so we also need the `!important` here to be able to override the default hidden behavior on the sphinx rendered scikit-learn.org. See: https://github.com/scikit-learn/scikit-learn/issues/21755 */display: inline-block !important;position: relative;}#sk-container-id-2 div.sk-text-repr-fallback {display: none;}</style><div id=\"sk-container-id-2\" class=\"sk-top-container\"><div class=\"sk-text-repr-fallback\"><pre>DecisionTreeClassifier(max_depth=12)</pre><b>In a Jupyter environment, please rerun this cell to show the HTML representation or trust the notebook. <br />On GitHub, the HTML representation is unable to render, please try loading this page with nbviewer.org.</b></div><div class=\"sk-container\" hidden><div class=\"sk-item\"><div class=\"sk-estimator sk-toggleable\"><input class=\"sk-toggleable__control sk-hidden--visually\" id=\"sk-estimator-id-2\" type=\"checkbox\" checked><label for=\"sk-estimator-id-2\" class=\"sk-toggleable__label sk-toggleable__label-arrow\">DecisionTreeClassifier</label><div class=\"sk-toggleable__content\"><pre>DecisionTreeClassifier(max_depth=12)</pre></div></div></div></div></div>"
      ],
      "text/plain": [
       "DecisionTreeClassifier(max_depth=12)"
      ]
     },
     "execution_count": 91,
     "metadata": {},
     "output_type": "execute_result"
    }
   ],
   "source": [
    "dt = DecisionTreeClassifier( max_depth= 12)\n",
    "dt.fit(X_train , Y_train)"
   ]
  },
  {
   "cell_type": "code",
   "execution_count": 92,
   "id": "f2d5b111",
   "metadata": {},
   "outputs": [
    {
     "name": "stdout",
     "output_type": "stream",
     "text": [
      "Training set score: 0.8654\n",
      "Test set score: 0.8475\n"
     ]
    }
   ],
   "source": [
    "# make predictions on test set\n",
    "y_pred_dt=dt.predict(X_test)\n",
    "\n",
    "print('Training set score: {:.4f}'.format(dt.score(X_train, Y_train)))\n",
    "\n",
    "print('Test set score: {:.4f}'.format(dt.score(X_test, Y_test)))"
   ]
  },
  {
   "cell_type": "code",
   "execution_count": 93,
   "id": "20795544",
   "metadata": {},
   "outputs": [
    {
     "name": "stdout",
     "output_type": "stream",
     "text": [
      "Mean Squared Error : 0.1525238615318866\n",
      "Root Mean Squared Error : 0.3905430341612645\n"
     ]
    }
   ],
   "source": [
    "#check MSE & RMSE \n",
    "#mse =mean_squared_error(Y_test, y_pred_dt)\n",
    "#print('Mean Squared Error : '+ str(mse))\n",
    "#rmse = math.sqrt(mean_squared_error(Y_test, y_pred_dt))\n",
    "#print('Root Mean Squared Error : '+ str(rmse))"
   ]
  },
  {
   "cell_type": "code",
   "execution_count": 94,
   "id": "de7e2820",
   "metadata": {},
   "outputs": [
    {
     "name": "stdout",
     "output_type": "stream",
     "text": [
      "              precision    recall  f1-score   support\n",
      "\n",
      "           0       0.78      0.96      0.86     10468\n",
      "           1       0.94      0.74      0.83     10591\n",
      "\n",
      "    accuracy                           0.85     21059\n",
      "   macro avg       0.86      0.85      0.85     21059\n",
      "weighted avg       0.86      0.85      0.85     21059\n",
      "\n"
     ]
    }
   ],
   "source": [
    "matrix = classification_report(Y_test,y_pred_dt)\n",
    "print(matrix)"
   ]
  },
  {
   "cell_type": "code",
   "execution_count": 95,
   "id": "403dc0e8",
   "metadata": {},
   "outputs": [
    {
     "data": {
      "image/png": "[encoded data removed]",
      "text/plain": [
       "<Figure size 640x480 with 2 Axes>"
      ]
     },
     "metadata": {},
     "output_type": "display_data"
    }
   ],
   "source": [
    "# calculating and plotting the confusion matrix\n",
    "cm1 = confusion_matrix(Y_test,y_pred_dt)\n",
    "plot_confusion_matrix(conf_mat=cm1,show_absolute=True,\n",
    "                                show_normed=True,\n",
    "                                colorbar=True)\n",
    "plt.show()"
   ]
  },
  {
   "cell_type": "markdown",
   "id": "910b7554",
   "metadata": {},
   "source": [
    "KNN Classification"
   ]
  },
  {
   "cell_type": "code",
   "execution_count": 96,
   "id": "9c9ba6f4",
   "metadata": {},
   "outputs": [
    {
     "data": {
      "text/plain": [
       "13"
      ]
     },
     "execution_count": 96,
     "metadata": {},
     "output_type": "execute_result"
    }
   ],
   "source": [
    "from sklearn.model_selection import cross_val_score\n",
    "\n",
    "k_values = range(1, 20)\n",
    "mean_cv_scores = []\n",
    "\n",
    "for k in k_values:\n",
    "    knn = KNeighborsClassifier(n_neighbors=k)\n",
    "    cv_scores = cross_val_score(knn, X_train, Y_train, cv=5)\n",
    "    mean_cv_scores.append(cv_scores.mean())\n",
    "\n",
    "# Choose the k with the highest mean cross-validated score\n",
    "best_k = k_values[mean_cv_scores.index(max(mean_cv_scores))]\n",
    "best_k"
   ]
  },
  {
   "cell_type": "code",
   "execution_count": 97,
   "id": "3f109d1b",
   "metadata": {},
   "outputs": [
    {
     "data": {
      "text/html": [
       "<style>#sk-container-id-3 {color: black;}#sk-container-id-3 pre{padding: 0;}#sk-container-id-3 div.sk-toggleable {background-color: white;}#sk-container-id-3 label.sk-toggleable__label {cursor: pointer;display: block;width: 100%;margin-bottom: 0;padding: 0.3em;box-sizing: border-box;text-align: center;}#sk-container-id-3 label.sk-toggleable__label-arrow:before {content: \"▸\";float: left;margin-right: 0.25em;color: #696969;}#sk-container-id-3 label.sk-toggleable__label-arrow:hover:before {color: black;}#sk-container-id-3 div.sk-estimator:hover label.sk-toggleable__label-arrow:before {color: black;}#sk-container-id-3 div.sk-toggleable__content {max-height: 0;max-width: 0;overflow: hidden;text-align: left;background-color: #f0f8ff;}#sk-container-id-3 div.sk-toggleable__content pre {margin: 0.2em;color: black;border-radius: 0.25em;background-color: #f0f8ff;}#sk-container-id-3 input.sk-toggleable__control:checked~div.sk-toggleable__content {max-height: 200px;max-width: 100%;overflow: auto;}#sk-container-id-3 input.sk-toggleable__control:checked~label.sk-toggleable__label-arrow:before {content: \"▾\";}#sk-container-id-3 div.sk-estimator input.sk-toggleable__control:checked~label.sk-toggleable__label {background-color: #d4ebff;}#sk-container-id-3 div.sk-label input.sk-toggleable__control:checked~label.sk-toggleable__label {background-color: #d4ebff;}#sk-container-id-3 input.sk-hidden--visually {border: 0;clip: rect(1px 1px 1px 1px);clip: rect(1px, 1px, 1px, 1px);height: 1px;margin: -1px;overflow: hidden;padding: 0;position: absolute;width: 1px;}#sk-container-id-3 div.sk-estimator {font-family: monospace;background-color: #f0f8ff;border: 1px dotted black;border-radius: 0.25em;box-sizing: border-box;margin-bottom: 0.5em;}#sk-container-id-3 div.sk-estimator:hover {background-color: #d4ebff;}#sk-container-id-3 div.sk-parallel-item::after {content: \"\";width: 100%;border-bottom: 1px solid gray;flex-grow: 1;}#sk-container-id-3 div.sk-label:hover label.sk-toggleable__label {background-color: #d4ebff;}#sk-container-id-3 div.sk-serial::before {content: \"\";position: absolute;border-left: 1px solid gray;box-sizing: border-box;top: 0;bottom: 0;left: 50%;z-index: 0;}#sk-container-id-3 div.sk-serial {display: flex;flex-direction: column;align-items: center;background-color: white;padding-right: 0.2em;padding-left: 0.2em;position: relative;}#sk-container-id-3 div.sk-item {position: relative;z-index: 1;}#sk-container-id-3 div.sk-parallel {display: flex;align-items: stretch;justify-content: center;background-color: white;position: relative;}#sk-container-id-3 div.sk-item::before, #sk-container-id-3 div.sk-parallel-item::before {content: \"\";position: absolute;border-left: 1px solid gray;box-sizing: border-box;top: 0;bottom: 0;left: 50%;z-index: -1;}#sk-container-id-3 div.sk-parallel-item {display: flex;flex-direction: column;z-index: 1;position: relative;background-color: white;}#sk-container-id-3 div.sk-parallel-item:first-child::after {align-self: flex-end;width: 50%;}#sk-container-id-3 div.sk-parallel-item:last-child::after {align-self: flex-start;width: 50%;}#sk-container-id-3 div.sk-parallel-item:only-child::after {width: 0;}#sk-container-id-3 div.sk-dashed-wrapped {border: 1px dashed gray;margin: 0 0.4em 0.5em 0.4em;box-sizing: border-box;padding-bottom: 0.4em;background-color: white;}#sk-container-id-3 div.sk-label label {font-family: monospace;font-weight: bold;display: inline-block;line-height: 1.2em;}#sk-container-id-3 div.sk-label-container {text-align: center;}#sk-container-id-3 div.sk-container {/* jupyter's `normalize.less` sets `[hidden] { display: none; }` but bootstrap.min.css set `[hidden] { display: none !important; }` so we also need the `!important` here to be able to override the default hidden behavior on the sphinx rendered scikit-learn.org. See: https://github.com/scikit-learn/scikit-learn/issues/21755 */display: inline-block !important;position: relative;}#sk-container-id-3 div.sk-text-repr-fallback {display: none;}</style><div id=\"sk-container-id-3\" class=\"sk-top-container\"><div class=\"sk-text-repr-fallback\"><pre>KNeighborsClassifier(n_neighbors=13)</pre><b>In a Jupyter environment, please rerun this cell to show the HTML representation or trust the notebook. <br />On GitHub, the HTML representation is unable to render, please try loading this page with nbviewer.org.</b></div><div class=\"sk-container\" hidden><div class=\"sk-item\"><div class=\"sk-estimator sk-toggleable\"><input class=\"sk-toggleable__control sk-hidden--visually\" id=\"sk-estimator-id-3\" type=\"checkbox\" checked><label for=\"sk-estimator-id-3\" class=\"sk-toggleable__label sk-toggleable__label-arrow\">KNeighborsClassifier</label><div class=\"sk-toggleable__content\"><pre>KNeighborsClassifier(n_neighbors=13)</pre></div></div></div></div></div>"
      ],
      "text/plain": [
       "KNeighborsClassifier(n_neighbors=13)"
      ]
     },
     "execution_count": 97,
     "metadata": {},
     "output_type": "execute_result"
    }
   ],
   "source": [
    "knn = KNeighborsClassifier(n_neighbors= best_k )\n",
    "knn.fit(X_train , Y_train)"
   ]
  },
  {
   "cell_type": "code",
   "execution_count": 98,
   "id": "9f735f24",
   "metadata": {},
   "outputs": [
    {
     "name": "stdout",
     "output_type": "stream",
     "text": [
      "Training set score: 0.8374\n",
      "Test set score: 0.8098\n"
     ]
    }
   ],
   "source": [
    "# make predictions on test set\n",
    "y_pred_knn=knn.predict(X_test)\n",
    "\n",
    "print('Training set score: {:.4f}'.format(knn.score(X_train, Y_train)))\n",
    "\n",
    "print('Test set score: {:.4f}'.format(knn.score(X_test, Y_test)))"
   ]
  },
  {
   "cell_type": "code",
   "execution_count": 99,
   "id": "b7a9a0ad",
   "metadata": {},
   "outputs": [
    {
     "name": "stdout",
     "output_type": "stream",
     "text": [
      "Mean Squared Error : 0.19022745619450115\n",
      "Root Mean Squared Error : 0.4361507264633422\n"
     ]
    }
   ],
   "source": [
    "#check MSE & RMSE \n",
    "#mse =mean_squared_error(Y_test, y_pred_knn)\n",
    "#print('Mean Squared Error : '+ str(mse))\n",
    "#rmse = math.sqrt(mean_squared_error(Y_test, y_pred_knn))\n",
    "#print('Root Mean Squared Error : '+ str(rmse))"
   ]
  },
  {
   "cell_type": "code",
   "execution_count": 100,
   "id": "f94d4d82",
   "metadata": {},
   "outputs": [
    {
     "name": "stdout",
     "output_type": "stream",
     "text": [
      "              precision    recall  f1-score   support\n",
      "\n",
      "           0       0.75      0.94      0.83     10468\n",
      "           1       0.92      0.68      0.78     10591\n",
      "\n",
      "    accuracy                           0.81     21059\n",
      "   macro avg       0.83      0.81      0.81     21059\n",
      "weighted avg       0.83      0.81      0.81     21059\n",
      "\n"
     ]
    }
   ],
   "source": [
    "matrix = classification_report(Y_test,y_pred_knn )\n",
    "print(matrix)"
   ]
  },
  {
   "cell_type": "code",
   "execution_count": 101,
   "id": "6ae9fedb",
   "metadata": {},
   "outputs": [
    {
     "data": {
      "image/png": "[encoded data removed]",
      "text/plain": [
       "<Figure size 640x480 with 2 Axes>"
      ]
     },
     "metadata": {},
     "output_type": "display_data"
    }
   ],
   "source": [
    "# calculating and plotting the confusion matrix\n",
    "cm1 = confusion_matrix(Y_test,y_pred_knn)\n",
    "plot_confusion_matrix(conf_mat=cm1,show_absolute=True,\n",
    "                                show_normed=True,\n",
    "                                colorbar=True)\n",
    "plt.show()"
   ]
  },
  {
   "cell_type": "markdown",
   "id": "08c45740",
   "metadata": {},
   "source": [
    "Random Forest"
   ]
  },
  {
   "cell_type": "code",
   "execution_count": 85,
   "id": "3dfde0e7",
   "metadata": {},
   "outputs": [
    {
     "data": {
      "text/html": [
       "<style>#sk-container-id-2 {color: black;}#sk-container-id-2 pre{padding: 0;}#sk-container-id-2 div.sk-toggleable {background-color: white;}#sk-container-id-2 label.sk-toggleable__label {cursor: pointer;display: block;width: 100%;margin-bottom: 0;padding: 0.3em;box-sizing: border-box;text-align: center;}#sk-container-id-2 label.sk-toggleable__label-arrow:before {content: \"▸\";float: left;margin-right: 0.25em;color: #696969;}#sk-container-id-2 label.sk-toggleable__label-arrow:hover:before {color: black;}#sk-container-id-2 div.sk-estimator:hover label.sk-toggleable__label-arrow:before {color: black;}#sk-container-id-2 div.sk-toggleable__content {max-height: 0;max-width: 0;overflow: hidden;text-align: left;background-color: #f0f8ff;}#sk-container-id-2 div.sk-toggleable__content pre {margin: 0.2em;color: black;border-radius: 0.25em;background-color: #f0f8ff;}#sk-container-id-2 input.sk-toggleable__control:checked~div.sk-toggleable__content {max-height: 200px;max-width: 100%;overflow: auto;}#sk-container-id-2 input.sk-toggleable__control:checked~label.sk-toggleable__label-arrow:before {content: \"▾\";}#sk-container-id-2 div.sk-estimator input.sk-toggleable__control:checked~label.sk-toggleable__label {background-color: #d4ebff;}#sk-container-id-2 div.sk-label input.sk-toggleable__control:checked~label.sk-toggleable__label {background-color: #d4ebff;}#sk-container-id-2 input.sk-hidden--visually {border: 0;clip: rect(1px 1px 1px 1px);clip: rect(1px, 1px, 1px, 1px);height: 1px;margin: -1px;overflow: hidden;padding: 0;position: absolute;width: 1px;}#sk-container-id-2 div.sk-estimator {font-family: monospace;background-color: #f0f8ff;border: 1px dotted black;border-radius: 0.25em;box-sizing: border-box;margin-bottom: 0.5em;}#sk-container-id-2 div.sk-estimator:hover {background-color: #d4ebff;}#sk-container-id-2 div.sk-parallel-item::after {content: \"\";width: 100%;border-bottom: 1px solid gray;flex-grow: 1;}#sk-container-id-2 div.sk-label:hover label.sk-toggleable__label {background-color: #d4ebff;}#sk-container-id-2 div.sk-serial::before {content: \"\";position: absolute;border-left: 1px solid gray;box-sizing: border-box;top: 0;bottom: 0;left: 50%;z-index: 0;}#sk-container-id-2 div.sk-serial {display: flex;flex-direction: column;align-items: center;background-color: white;padding-right: 0.2em;padding-left: 0.2em;position: relative;}#sk-container-id-2 div.sk-item {position: relative;z-index: 1;}#sk-container-id-2 div.sk-parallel {display: flex;align-items: stretch;justify-content: center;background-color: white;position: relative;}#sk-container-id-2 div.sk-item::before, #sk-container-id-2 div.sk-parallel-item::before {content: \"\";position: absolute;border-left: 1px solid gray;box-sizing: border-box;top: 0;bottom: 0;left: 50%;z-index: -1;}#sk-container-id-2 div.sk-parallel-item {display: flex;flex-direction: column;z-index: 1;position: relative;background-color: white;}#sk-container-id-2 div.sk-parallel-item:first-child::after {align-self: flex-end;width: 50%;}#sk-container-id-2 div.sk-parallel-item:last-child::after {align-self: flex-start;width: 50%;}#sk-container-id-2 div.sk-parallel-item:only-child::after {width: 0;}#sk-container-id-2 div.sk-dashed-wrapped {border: 1px dashed gray;margin: 0 0.4em 0.5em 0.4em;box-sizing: border-box;padding-bottom: 0.4em;background-color: white;}#sk-container-id-2 div.sk-label label {font-family: monospace;font-weight: bold;display: inline-block;line-height: 1.2em;}#sk-container-id-2 div.sk-label-container {text-align: center;}#sk-container-id-2 div.sk-container {/* jupyter's `normalize.less` sets `[hidden] { display: none; }` but bootstrap.min.css set `[hidden] { display: none !important; }` so we also need the `!important` here to be able to override the default hidden behavior on the sphinx rendered scikit-learn.org. See: https://github.com/scikit-learn/scikit-learn/issues/21755 */display: inline-block !important;position: relative;}#sk-container-id-2 div.sk-text-repr-fallback {display: none;}</style><div id=\"sk-container-id-2\" class=\"sk-top-container\"><div class=\"sk-text-repr-fallback\"><pre>RandomForestClassifier(max_depth=12, n_estimators=15, random_state=42)</pre><b>In a Jupyter environment, please rerun this cell to show the HTML representation or trust the notebook. <br />On GitHub, the HTML representation is unable to render, please try loading this page with nbviewer.org.</b></div><div class=\"sk-container\" hidden><div class=\"sk-item\"><div class=\"sk-estimator sk-toggleable\"><input class=\"sk-toggleable__control sk-hidden--visually\" id=\"sk-estimator-id-2\" type=\"checkbox\" checked><label for=\"sk-estimator-id-2\" class=\"sk-toggleable__label sk-toggleable__label-arrow\">RandomForestClassifier</label><div class=\"sk-toggleable__content\"><pre>RandomForestClassifier(max_depth=12, n_estimators=15, random_state=42)</pre></div></div></div></div></div>"
      ],
      "text/plain": [
       "RandomForestClassifier(max_depth=12, n_estimators=15, random_state=42)"
      ]
     },
     "execution_count": 85,
     "metadata": {},
     "output_type": "execute_result"
    }
   ],
   "source": [
    "rf = RandomForestClassifier(max_depth=12 ,n_estimators =15, random_state=42 )\n",
    "\n",
    "# fitting the model on the train data\n",
    "rf.fit(X_train, Y_train)"
   ]
  },
  {
   "cell_type": "code",
   "execution_count": 86,
   "id": "1e06c669",
   "metadata": {},
   "outputs": [
    {
     "name": "stdout",
     "output_type": "stream",
     "text": [
      "Training set score: 0.8716\n",
      "Test set score: 0.8603\n"
     ]
    }
   ],
   "source": [
    "# make predictions on test set\n",
    "y_pred_rf=rf.predict(X_test)\n",
    "\n",
    "print('Training set score: {:.4f}'.format(rf.score(X_train, Y_train)))\n",
    "\n",
    "print('Test set score: {:.4f}'.format(rf.score(X_test, Y_test)))"
   ]
  },
  {
   "cell_type": "code",
   "execution_count": 87,
   "id": "2ff67aeb",
   "metadata": {},
   "outputs": [
    {
     "name": "stdout",
     "output_type": "stream",
     "text": [
      "Mean Squared Error : 0.13970273992117385\n",
      "Root Mean Squared Error : 0.37376829710553816\n"
     ]
    }
   ],
   "source": [
    "#check MSE & RMSE \n",
    "#mse =mean_squared_error(Y_test, y_pred_rf)\n",
    "#print('Mean Squared Error : '+ str(mse))\n",
    "#rmse = math.sqrt(mean_squared_error(Y_test, y_pred_rf))\n",
    "#print('Root Mean Squared Error : '+ str(rmse))"
   ]
  },
  {
   "cell_type": "code",
   "execution_count": 88,
   "id": "3aee0a82",
   "metadata": {},
   "outputs": [
    {
     "name": "stdout",
     "output_type": "stream",
     "text": [
      "              precision    recall  f1-score   support\n",
      "\n",
      "           0       0.80      0.96      0.87     10468\n",
      "           1       0.95      0.77      0.85     10591\n",
      "\n",
      "    accuracy                           0.86     21059\n",
      "   macro avg       0.87      0.86      0.86     21059\n",
      "weighted avg       0.87      0.86      0.86     21059\n",
      "\n"
     ]
    }
   ],
   "source": [
    "matrix = classification_report(Y_test,y_pred_rf )\n",
    "print(matrix)"
   ]
  },
  {
   "cell_type": "code",
   "execution_count": 89,
   "id": "0e8b1b6c",
   "metadata": {},
   "outputs": [
    {
     "data": {
      "image/png": "[encoded data removed]",
      "text/plain": [
       "<Figure size 640x480 with 2 Axes>"
      ]
     },
     "metadata": {},
     "output_type": "display_data"
    }
   ],
   "source": [
    "# calculating and plotting the confusion matrix\n",
    "cm1 = confusion_matrix(Y_test,y_pred_rf)\n",
    "plot_confusion_matrix(conf_mat=cm1,show_absolute=True,\n",
    "                                show_normed=True,\n",
    "                                colorbar=True)\n",
    "plt.show()"
   ]
  },
  {
   "cell_type": "code",
   "execution_count": 91,
   "id": "44b8dd9e",
   "metadata": {},
   "outputs": [
    {
     "data": {
      "image/png": "[encoded data removed]",
      "text/plain": [
       "<Figure size 1000x500 with 1 Axes>"
      ]
     },
     "metadata": {},
     "output_type": "display_data"
    }
   ],
   "source": [
    "from sklearn.ensemble import RandomForestClassifier\n",
    "from sklearn.metrics import accuracy_score, classification_report, confusion_matrix\n",
    "import matplotlib.pyplot as plt\n",
    "\n",
    "\n",
    "# If X_train is a NumPy array, you can still access feature names separately\n",
    "if isinstance(X_train, pd.DataFrame):\n",
    "    feature_names = X_train.columns\n",
    "else:\n",
    "    # Assuming X_train is a NumPy array, use indices as feature names\n",
    "    feature_names = [f'Feature_{i}' for i in range(X_train.shape[1])]\n",
    "\n",
    "# Sort feature importances in descending order\n",
    "sorted_indices = importances.argsort()[::-1]\n",
    "sorted_importances = importances[sorted_indices]\n",
    "sorted_feature_names = [feature_names[i] for i in sorted_indices]\n",
    "                        \n",
    "# Plot variable importance\n",
    "plt.figure(figsize=(10, 5))\n",
    "plt.barh(range(len(sorted_importances)), sorted_importances, align='center')\n",
    "plt.yticks(range(len(sorted_importances)), sorted_feature_names)\n",
    "plt.xlabel('Feature Importance')\n",
    "plt.title('Variable Importance Plot (Random Forest)')\n",
    "plt.show()\n"
   ]
  },
  {
   "cell_type": "code",
   "execution_count": null,
   "id": "29cf458b",
   "metadata": {},
   "outputs": [],
   "source": []
  },
  {
   "cell_type": "markdown",
   "id": "9798701e",
   "metadata": {},
   "source": [
    "SVM"
   ]
  },
  {
   "cell_type": "code",
   "execution_count": 107,
   "id": "622c65df",
   "metadata": {},
   "outputs": [
    {
     "name": "stdout",
     "output_type": "stream",
     "text": [
      "Training set score: 0.8689\n",
      "Test set score: 0.8608\n"
     ]
    }
   ],
   "source": [
    "from sklearn.svm import SVC\n",
    "\n",
    "# define the model\n",
    "\n",
    "clf = SVC(kernel='rbf', C=1.0, gamma='scale',class_weight='balanced')\n",
    "\n",
    "# train the model\n",
    "clf.fit(X_train, Y_train)\n",
    "\n",
    "y_pred_svm=clf.predict(X_test)\n",
    "\n",
    "print('Training set score: {:.4f}'.format(clf.score(X_train, Y_train)))\n",
    "\n",
    "print('Test set score: {:.4f}'.format(clf.score(X_test, Y_test)))"
   ]
  },
  {
   "cell_type": "code",
   "execution_count": 108,
   "id": "d93bfe7c",
   "metadata": {},
   "outputs": [
    {
     "name": "stdout",
     "output_type": "stream",
     "text": [
      "Mean Squared Error : 0.13918039792962628\n",
      "Root Mean Squared Error : 0.37306889166697654\n"
     ]
    }
   ],
   "source": [
    "#check MSE & RMSE \n",
    "#mse =mean_squared_error(Y_test, y_pred_svm)\n",
    "#print('Mean Squared Error : '+ str(mse))\n",
    "#rmse = math.sqrt(mean_squared_error(Y_test, y_pred_svm))\n",
    "#print('Root Mean Squared Error : '+ str(rmse))"
   ]
  },
  {
   "cell_type": "code",
   "execution_count": 109,
   "id": "d1456c2c",
   "metadata": {},
   "outputs": [
    {
     "name": "stdout",
     "output_type": "stream",
     "text": [
      "              precision    recall  f1-score   support\n",
      "\n",
      "           0       0.80      0.96      0.87     10468\n",
      "           1       0.95      0.76      0.85     10591\n",
      "\n",
      "    accuracy                           0.86     21059\n",
      "   macro avg       0.88      0.86      0.86     21059\n",
      "weighted avg       0.88      0.86      0.86     21059\n",
      "\n"
     ]
    }
   ],
   "source": [
    "matrix = classification_report(Y_test,y_pred_svm)\n",
    "print(matrix)"
   ]
  },
  {
   "cell_type": "code",
   "execution_count": 110,
   "id": "8871aa8f",
   "metadata": {},
   "outputs": [
    {
     "data": {
      "image/png": "[encoded data removed]",
      "text/plain": [
       "<Figure size 640x480 with 2 Axes>"
      ]
     },
     "metadata": {},
     "output_type": "display_data"
    }
   ],
   "source": [
    "# calculating and plotting the confusion matrix\n",
    "cm1 = confusion_matrix(Y_test,y_pred_svm)\n",
    "plot_confusion_matrix(conf_mat=cm1,show_absolute=True,\n",
    "                                show_normed=True,\n",
    "                                colorbar=True)\n",
    "plt.show()"
   ]
  },
  {
   "cell_type": "markdown",
   "id": "6270a7d5",
   "metadata": {},
   "source": [
    "XGBoost"
   ]
  },
  {
   "cell_type": "code",
   "execution_count": 111,
   "id": "c4c4224f",
   "metadata": {},
   "outputs": [
    {
     "data": {
      "text/html": [
       "<style>#sk-container-id-5 {color: black;}#sk-container-id-5 pre{padding: 0;}#sk-container-id-5 div.sk-toggleable {background-color: white;}#sk-container-id-5 label.sk-toggleable__label {cursor: pointer;display: block;width: 100%;margin-bottom: 0;padding: 0.3em;box-sizing: border-box;text-align: center;}#sk-container-id-5 label.sk-toggleable__label-arrow:before {content: \"▸\";float: left;margin-right: 0.25em;color: #696969;}#sk-container-id-5 label.sk-toggleable__label-arrow:hover:before {color: black;}#sk-container-id-5 div.sk-estimator:hover label.sk-toggleable__label-arrow:before {color: black;}#sk-container-id-5 div.sk-toggleable__content {max-height: 0;max-width: 0;overflow: hidden;text-align: left;background-color: #f0f8ff;}#sk-container-id-5 div.sk-toggleable__content pre {margin: 0.2em;color: black;border-radius: 0.25em;background-color: #f0f8ff;}#sk-container-id-5 input.sk-toggleable__control:checked~div.sk-toggleable__content {max-height: 200px;max-width: 100%;overflow: auto;}#sk-container-id-5 input.sk-toggleable__control:checked~label.sk-toggleable__label-arrow:before {content: \"▾\";}#sk-container-id-5 div.sk-estimator input.sk-toggleable__control:checked~label.sk-toggleable__label {background-color: #d4ebff;}#sk-container-id-5 div.sk-label input.sk-toggleable__control:checked~label.sk-toggleable__label {background-color: #d4ebff;}#sk-container-id-5 input.sk-hidden--visually {border: 0;clip: rect(1px 1px 1px 1px);clip: rect(1px, 1px, 1px, 1px);height: 1px;margin: -1px;overflow: hidden;padding: 0;position: absolute;width: 1px;}#sk-container-id-5 div.sk-estimator {font-family: monospace;background-color: #f0f8ff;border: 1px dotted black;border-radius: 0.25em;box-sizing: border-box;margin-bottom: 0.5em;}#sk-container-id-5 div.sk-estimator:hover {background-color: #d4ebff;}#sk-container-id-5 div.sk-parallel-item::after {content: \"\";width: 100%;border-bottom: 1px solid gray;flex-grow: 1;}#sk-container-id-5 div.sk-label:hover label.sk-toggleable__label {background-color: #d4ebff;}#sk-container-id-5 div.sk-serial::before {content: \"\";position: absolute;border-left: 1px solid gray;box-sizing: border-box;top: 0;bottom: 0;left: 50%;z-index: 0;}#sk-container-id-5 div.sk-serial {display: flex;flex-direction: column;align-items: center;background-color: white;padding-right: 0.2em;padding-left: 0.2em;position: relative;}#sk-container-id-5 div.sk-item {position: relative;z-index: 1;}#sk-container-id-5 div.sk-parallel {display: flex;align-items: stretch;justify-content: center;background-color: white;position: relative;}#sk-container-id-5 div.sk-item::before, #sk-container-id-5 div.sk-parallel-item::before {content: \"\";position: absolute;border-left: 1px solid gray;box-sizing: border-box;top: 0;bottom: 0;left: 50%;z-index: -1;}#sk-container-id-5 div.sk-parallel-item {display: flex;flex-direction: column;z-index: 1;position: relative;background-color: white;}#sk-container-id-5 div.sk-parallel-item:first-child::after {align-self: flex-end;width: 50%;}#sk-container-id-5 div.sk-parallel-item:last-child::after {align-self: flex-start;width: 50%;}#sk-container-id-5 div.sk-parallel-item:only-child::after {width: 0;}#sk-container-id-5 div.sk-dashed-wrapped {border: 1px dashed gray;margin: 0 0.4em 0.5em 0.4em;box-sizing: border-box;padding-bottom: 0.4em;background-color: white;}#sk-container-id-5 div.sk-label label {font-family: monospace;font-weight: bold;display: inline-block;line-height: 1.2em;}#sk-container-id-5 div.sk-label-container {text-align: center;}#sk-container-id-5 div.sk-container {/* jupyter's `normalize.less` sets `[hidden] { display: none; }` but bootstrap.min.css set `[hidden] { display: none !important; }` so we also need the `!important` here to be able to override the default hidden behavior on the sphinx rendered scikit-learn.org. See: https://github.com/scikit-learn/scikit-learn/issues/21755 */display: inline-block !important;position: relative;}#sk-container-id-5 div.sk-text-repr-fallback {display: none;}</style><div id=\"sk-container-id-5\" class=\"sk-top-container\"><div class=\"sk-text-repr-fallback\"><pre>XGBClassifier(base_score=None, booster=None, callbacks=None,\n",
       "              colsample_bylevel=None, colsample_bynode=None,\n",
       "              colsample_bytree=None, device=None, early_stopping_rounds=None,\n",
       "              enable_categorical=False, eval_metric=&#x27;error&#x27;, feature_types=None,\n",
       "              gamma=None, grow_policy=None, importance_type=None,\n",
       "              interaction_constraints=None, learning_rate=0.1, max_bin=None,\n",
       "              max_cat_threshold=None, max_cat_to_onehot=None,\n",
       "              max_delta_step=None, max_depth=None, max_leaves=None,\n",
       "              min_child_weight=None, missing=nan, monotone_constraints=None,\n",
       "              multi_strategy=None, n_estimators=None, n_jobs=None,\n",
       "              num_parallel_tree=None, random_state=None, ...)</pre><b>In a Jupyter environment, please rerun this cell to show the HTML representation or trust the notebook. <br />On GitHub, the HTML representation is unable to render, please try loading this page with nbviewer.org.</b></div><div class=\"sk-container\" hidden><div class=\"sk-item\"><div class=\"sk-estimator sk-toggleable\"><input class=\"sk-toggleable__control sk-hidden--visually\" id=\"sk-estimator-id-5\" type=\"checkbox\" checked><label for=\"sk-estimator-id-5\" class=\"sk-toggleable__label sk-toggleable__label-arrow\">XGBClassifier</label><div class=\"sk-toggleable__content\"><pre>XGBClassifier(base_score=None, booster=None, callbacks=None,\n",
       "              colsample_bylevel=None, colsample_bynode=None,\n",
       "              colsample_bytree=None, device=None, early_stopping_rounds=None,\n",
       "              enable_categorical=False, eval_metric=&#x27;error&#x27;, feature_types=None,\n",
       "              gamma=None, grow_policy=None, importance_type=None,\n",
       "              interaction_constraints=None, learning_rate=0.1, max_bin=None,\n",
       "              max_cat_threshold=None, max_cat_to_onehot=None,\n",
       "              max_delta_step=None, max_depth=None, max_leaves=None,\n",
       "              min_child_weight=None, missing=nan, monotone_constraints=None,\n",
       "              multi_strategy=None, n_estimators=None, n_jobs=None,\n",
       "              num_parallel_tree=None, random_state=None, ...)</pre></div></div></div></div></div>"
      ],
      "text/plain": [
       "XGBClassifier(base_score=None, booster=None, callbacks=None,\n",
       "              colsample_bylevel=None, colsample_bynode=None,\n",
       "              colsample_bytree=None, device=None, early_stopping_rounds=None,\n",
       "              enable_categorical=False, eval_metric='error', feature_types=None,\n",
       "              gamma=None, grow_policy=None, importance_type=None,\n",
       "              interaction_constraints=None, learning_rate=0.1, max_bin=None,\n",
       "              max_cat_threshold=None, max_cat_to_onehot=None,\n",
       "              max_delta_step=None, max_depth=None, max_leaves=None,\n",
       "              min_child_weight=None, missing=nan, monotone_constraints=None,\n",
       "              multi_strategy=None, n_estimators=None, n_jobs=None,\n",
       "              num_parallel_tree=None, random_state=None, ...)"
      ]
     },
     "execution_count": 111,
     "metadata": {},
     "output_type": "execute_result"
    }
   ],
   "source": [
    "from xgboost import XGBClassifier\n",
    "xg = XGBClassifier(eval_metric= 'error', learning_rate= 0.1)\n",
    "xg.fit(X_train , Y_train)"
   ]
  },
  {
   "cell_type": "code",
   "execution_count": 115,
   "id": "4bb58e48",
   "metadata": {},
   "outputs": [
    {
     "name": "stdout",
     "output_type": "stream",
     "text": [
      "Training set score: 0.8759\n",
      "Test set score: 0.8274\n"
     ]
    }
   ],
   "source": [
    "y_pred_xgb=xg.predict(X_test)\n",
    "\n",
    "print('Training set score: {:.4f}'.format(xg.score(X_train, Y_train)))\n",
    "\n",
    "print('Test set score: {:.4f}'.format(xg.score(X_test, Y_test)))"
   ]
  },
  {
   "cell_type": "code",
   "execution_count": 116,
   "id": "b047eeec",
   "metadata": {},
   "outputs": [
    {
     "name": "stdout",
     "output_type": "stream",
     "text": [
      "              precision    recall  f1-score   support\n",
      "\n",
      "           0       0.75      0.97      0.85     10468\n",
      "           1       0.96      0.68      0.80     10591\n",
      "\n",
      "    accuracy                           0.83     21059\n",
      "   macro avg       0.86      0.83      0.82     21059\n",
      "weighted avg       0.86      0.83      0.82     21059\n",
      "\n"
     ]
    }
   ],
   "source": [
    "matrix = classification_report(Y_test,y_pred_xgb )\n",
    "print(matrix)"
   ]
  },
  {
   "cell_type": "code",
   "execution_count": 117,
   "id": "78739a89",
   "metadata": {},
   "outputs": [
    {
     "data": {
      "image/png": "[encoded data removed]",
      "text/plain": [
       "<Figure size 640x480 with 2 Axes>"
      ]
     },
     "metadata": {},
     "output_type": "display_data"
    }
   ],
   "source": [
    "# calculating and plotting the confusion matrix\n",
    "cm1 = confusion_matrix(Y_test,y_pred_xgb)\n",
    "plot_confusion_matrix(conf_mat=cm1,show_absolute=True,\n",
    "                                show_normed=True,\n",
    "                                colorbar=True)\n",
    "plt.show()"
   ]
  },
  {
   "cell_type": "markdown",
   "id": "e2ceef48",
   "metadata": {},
   "source": [
    "# RNN"
   ]
  },
  {
   "cell_type": "markdown",
   "id": "027f1627",
   "metadata": {},
   "source": [
    "#RNN"
   ]
  },
  {
   "cell_type": "code",
   "execution_count": 33,
   "id": "407c1035",
   "metadata": {},
   "outputs": [
    {
     "name": "stdout",
     "output_type": "stream",
     "text": [
      "WARNING:tensorflow:From C:\\Users\\Poulomee Roy\\anaconda3\\Lib\\site-packages\\keras\\src\\layers\\rnn\\simple_rnn.py:130: The name tf.executing_eagerly_outside_functions is deprecated. Please use tf.compat.v1.executing_eagerly_outside_functions instead.\n",
      "\n",
      "WARNING:tensorflow:From C:\\Users\\Poulomee Roy\\anaconda3\\Lib\\site-packages\\keras\\src\\optimizers\\__init__.py:309: The name tf.train.Optimizer is deprecated. Please use tf.compat.v1.train.Optimizer instead.\n",
      "\n",
      "Epoch 1/10\n",
      "WARNING:tensorflow:From C:\\Users\\Poulomee Roy\\anaconda3\\Lib\\site-packages\\keras\\src\\utils\\tf_utils.py:492: The name tf.ragged.RaggedTensorValue is deprecated. Please use tf.compat.v1.ragged.RaggedTensorValue instead.\n",
      "\n",
      "WARNING:tensorflow:From C:\\Users\\Poulomee Roy\\anaconda3\\Lib\\site-packages\\keras\\src\\engine\\base_layer_utils.py:384: The name tf.executing_eagerly_outside_functions is deprecated. Please use tf.compat.v1.executing_eagerly_outside_functions instead.\n",
      "\n",
      "1404/1404 [==============================] - 7s 3ms/step - loss: 0.3708 - accuracy: 0.8321 - val_loss: 0.3334 - val_accuracy: 0.8570\n",
      "Epoch 2/10\n",
      "1404/1404 [==============================] - 5s 3ms/step - loss: 0.3359 - accuracy: 0.8504 - val_loss: 0.3269 - val_accuracy: 0.8566\n",
      "Epoch 3/10\n",
      "1404/1404 [==============================] - 4s 3ms/step - loss: 0.3291 - accuracy: 0.8560 - val_loss: 0.3260 - val_accuracy: 0.8556\n",
      "Epoch 4/10\n",
      "1404/1404 [==============================] - 4s 3ms/step - loss: 0.3240 - accuracy: 0.8580 - val_loss: 0.3216 - val_accuracy: 0.8599\n",
      "Epoch 5/10\n",
      "1404/1404 [==============================] - 4s 3ms/step - loss: 0.3215 - accuracy: 0.8593 - val_loss: 0.3144 - val_accuracy: 0.8615\n",
      "Epoch 6/10\n",
      "1404/1404 [==============================] - 5s 3ms/step - loss: 0.3189 - accuracy: 0.8613 - val_loss: 0.3136 - val_accuracy: 0.8656\n",
      "Epoch 7/10\n",
      "1404/1404 [==============================] - 4s 3ms/step - loss: 0.3151 - accuracy: 0.8623 - val_loss: 0.3242 - val_accuracy: 0.8637\n",
      "Epoch 8/10\n",
      "1404/1404 [==============================] - 4s 3ms/step - loss: 0.3130 - accuracy: 0.8636 - val_loss: 0.3089 - val_accuracy: 0.8669\n",
      "Epoch 9/10\n",
      "1404/1404 [==============================] - 5s 3ms/step - loss: 0.3107 - accuracy: 0.8643 - val_loss: 0.3034 - val_accuracy: 0.8719\n",
      "Epoch 10/10\n",
      "1404/1404 [==============================] - 5s 3ms/step - loss: 0.3116 - accuracy: 0.8648 - val_loss: 0.3190 - val_accuracy: 0.8656\n",
      "439/439 [==============================] - 1s 2ms/step\n",
      "Accuracy: 0.8565424887812523\n",
      "\n",
      "Confusion Matrix:\n",
      " [[6501  511]\n",
      " [1503 5524]]\n",
      "\n",
      "Classification Report:\n",
      "               precision    recall  f1-score   support\n",
      "\n",
      "           0       0.81      0.93      0.87      7012\n",
      "           1       0.92      0.79      0.85      7027\n",
      "\n",
      "    accuracy                           0.86     14039\n",
      "   macro avg       0.86      0.86      0.86     14039\n",
      "weighted avg       0.86      0.86      0.86     14039\n",
      "\n"
     ]
    }
   ],
   "source": [
    "import tensorflow as tf\n",
    "from tensorflow.keras import layers, models\n",
    "from sklearn.model_selection import train_test_split\n",
    "from sklearn.preprocessing import StandardScaler\n",
    "from sklearn.metrics import accuracy_score, classification_report, confusion_matrix\n",
    "\n",
    "# Assuming you have X (features) and Y (target variable) loaded\n",
    "\n",
    "# Reshape your data for a simple example (adjust as needed)\n",
    "X_reshaped = x_sm.values.reshape(x_sm.shape[0], x_sm.shape[1], 1)\n",
    "\n",
    "# Split the data into training and testing sets\n",
    "X_train, X_test, Y_train, Y_test = train_test_split(X_reshaped, y_sm, test_size=0.2, random_state=42)\n",
    "\n",
    "# Reshape the data back to 2D for StandardScaler\n",
    "X_train_2d = X_train.reshape(X_train.shape[0], -1)\n",
    "X_test_2d = X_test.reshape(X_test.shape[0], -1)\n",
    "\n",
    "# Standardize the features\n",
    "scaler = StandardScaler()\n",
    "X_train_scaled = scaler.fit_transform(X_train_2d)\n",
    "X_test_scaled = scaler.transform(X_test_2d)\n",
    "\n",
    "# Reshape the data back to 3D for the RNN\n",
    "X_train_scaled = X_train_scaled.reshape(X_train.shape[0], X_train.shape[1], 1)\n",
    "X_test_scaled = X_test_scaled.reshape(X_test.shape[0], X_test.shape[1], 1)\n",
    "\n",
    "# Define the RNN model\n",
    "model = models.Sequential([\n",
    "    layers.SimpleRNN(64, activation='relu', input_shape=(X_train.shape[1], 1)),\n",
    "    layers.Dense(32, activation='relu'),\n",
    "    layers.Dense(1, activation='sigmoid')  # Assuming binary classification\n",
    "])\n",
    "\n",
    "# Compile the model\n",
    "model.compile(optimizer='adam', loss='binary_crossentropy', metrics=['accuracy'])\n",
    "\n",
    "# Train the model\n",
    "model.fit(X_train_scaled, Y_train, epochs=10, batch_size=32, validation_split=0.2)\n",
    "\n",
    "# Evaluate the model on the test set\n",
    "predictions = model.predict(X_test_scaled)\n",
    "predictions_binary = (predictions > 0.5).astype(int)\n",
    "\n",
    "# Print evaluation metrics\n",
    "print(\"Accuracy:\", accuracy_score(Y_test, predictions_binary))\n",
    "print(\"\\nConfusion Matrix:\\n\", confusion_matrix(Y_test, predictions_binary))\n",
    "print(\"\\nClassification Report:\\n\", classification_report(Y_test, predictions_binary))\n"
   ]
  },
  {
   "cell_type": "markdown",
   "id": "c86dc0b4",
   "metadata": {},
   "source": [
    "# FeedForward Neural Network"
   ]
  },
  {
   "cell_type": "code",
   "execution_count": 100,
   "id": "5a3993ed",
   "metadata": {},
   "outputs": [
    {
     "name": "stdout",
     "output_type": "stream",
     "text": [
      "Collecting shap\n",
      "  Obtaining dependency information for shap from https://files.pythonhosted.org/packages/f5/fc/e81722d6bec4fcba46e46ef895eddaeab0027ac71e78fc35ef351fac5fe4/shap-0.43.0-cp311-cp311-win_amd64.whl.metadata\n",
      "  Downloading shap-0.43.0-cp311-cp311-win_amd64.whl.metadata (24 kB)\n",
      "Requirement already satisfied: numpy in c:\\users\\poulomee roy\\anaconda3\\lib\\site-packages (from shap) (1.24.3)\n",
      "Requirement already satisfied: scipy in c:\\users\\poulomee roy\\anaconda3\\lib\\site-packages (from shap) (1.10.1)\n",
      "Requirement already satisfied: scikit-learn in c:\\users\\poulomee roy\\anaconda3\\lib\\site-packages (from shap) (1.3.2)\n",
      "Requirement already satisfied: pandas in c:\\users\\poulomee roy\\anaconda3\\lib\\site-packages (from shap) (1.5.3)\n",
      "Requirement already satisfied: tqdm>=4.27.0 in c:\\users\\poulomee roy\\anaconda3\\lib\\site-packages (from shap) (4.65.0)\n",
      "Requirement already satisfied: packaging>20.9 in c:\\users\\poulomee roy\\anaconda3\\lib\\site-packages (from shap) (23.0)\n",
      "Collecting slicer==0.0.7 (from shap)\n",
      "  Downloading slicer-0.0.7-py3-none-any.whl (14 kB)\n",
      "Requirement already satisfied: numba in c:\\users\\poulomee roy\\anaconda3\\lib\\site-packages (from shap) (0.57.0)\n",
      "Requirement already satisfied: cloudpickle in c:\\users\\poulomee roy\\anaconda3\\lib\\site-packages (from shap) (2.2.1)\n",
      "Requirement already satisfied: colorama in c:\\users\\poulomee roy\\anaconda3\\lib\\site-packages (from tqdm>=4.27.0->shap) (0.4.6)\n",
      "Requirement already satisfied: llvmlite<0.41,>=0.40.0dev0 in c:\\users\\poulomee roy\\anaconda3\\lib\\site-packages (from numba->shap) (0.40.0)\n",
      "Requirement already satisfied: python-dateutil>=2.8.1 in c:\\users\\poulomee roy\\anaconda3\\lib\\site-packages (from pandas->shap) (2.8.2)\n",
      "Requirement already satisfied: pytz>=2020.1 in c:\\users\\poulomee roy\\anaconda3\\lib\\site-packages (from pandas->shap) (2022.7)\n",
      "Requirement already satisfied: joblib>=1.1.1 in c:\\users\\poulomee roy\\anaconda3\\lib\\site-packages (from scikit-learn->shap) (1.1.1)\n",
      "Requirement already satisfied: threadpoolctl>=2.0.0 in c:\\users\\poulomee roy\\anaconda3\\lib\\site-packages (from scikit-learn->shap) (2.2.0)\n",
      "Requirement already satisfied: six>=1.5 in c:\\users\\poulomee roy\\anaconda3\\lib\\site-packages (from python-dateutil>=2.8.1->pandas->shap) (1.16.0)\n",
      "Downloading shap-0.43.0-cp311-cp311-win_amd64.whl (447 kB)\n",
      "   ---------------------------------------- 0.0/447.3 kB ? eta -:--:--\n",
      "   ---------------------------------- ----- 389.1/447.3 kB 8.1 MB/s eta 0:00:01\n",
      "   ---------------------------------------- 447.3/447.3 kB 9.3 MB/s eta 0:00:00\n",
      "Installing collected packages: slicer, shap\n",
      "Successfully installed shap-0.43.0 slicer-0.0.7\n"
     ]
    }
   ],
   "source": [
    "!pip install shap"
   ]
  },
  {
   "cell_type": "code",
   "execution_count": 34,
   "id": "38f1f3ba",
   "metadata": {},
   "outputs": [
    {
     "name": "stdout",
     "output_type": "stream",
     "text": [
      "Epoch 1/10\n",
      "1404/1404 [==============================] - 4s 2ms/step - loss: 0.3609 - accuracy: 0.8373 - val_loss: 0.3161 - val_accuracy: 0.8654\n",
      "Epoch 2/10\n",
      "1404/1404 [==============================] - 3s 2ms/step - loss: 0.3293 - accuracy: 0.8572 - val_loss: 0.3076 - val_accuracy: 0.8677\n",
      "Epoch 3/10\n",
      "1404/1404 [==============================] - 3s 2ms/step - loss: 0.3195 - accuracy: 0.8624 - val_loss: 0.3019 - val_accuracy: 0.8729\n",
      "Epoch 4/10\n",
      "1404/1404 [==============================] - 3s 2ms/step - loss: 0.3143 - accuracy: 0.8648 - val_loss: 0.2982 - val_accuracy: 0.8737\n",
      "Epoch 5/10\n",
      "1404/1404 [==============================] - 3s 2ms/step - loss: 0.3086 - accuracy: 0.8674 - val_loss: 0.2947 - val_accuracy: 0.8745\n",
      "Epoch 6/10\n",
      "1404/1404 [==============================] - 3s 2ms/step - loss: 0.3044 - accuracy: 0.8686 - val_loss: 0.2948 - val_accuracy: 0.8753\n",
      "Epoch 7/10\n",
      "1404/1404 [==============================] - 3s 2ms/step - loss: 0.3026 - accuracy: 0.8689 - val_loss: 0.2899 - val_accuracy: 0.8771\n",
      "Epoch 8/10\n",
      "1404/1404 [==============================] - 3s 2ms/step - loss: 0.3004 - accuracy: 0.8701 - val_loss: 0.2902 - val_accuracy: 0.8754\n",
      "Epoch 9/10\n",
      "1404/1404 [==============================] - 3s 2ms/step - loss: 0.2987 - accuracy: 0.8713 - val_loss: 0.2892 - val_accuracy: 0.8767\n",
      "Epoch 10/10\n",
      "1404/1404 [==============================] - 3s 2ms/step - loss: 0.2969 - accuracy: 0.8718 - val_loss: 0.2880 - val_accuracy: 0.8761\n",
      "439/439 [==============================] - 1s 1ms/step\n",
      "Accuracy: 0.8695776052425387\n",
      "\n",
      "Confusion Matrix:\n",
      " [[6659  353]\n",
      " [1478 5549]]\n",
      "\n",
      "Classification Report:\n",
      "               precision    recall  f1-score   support\n",
      "\n",
      "           0       0.82      0.95      0.88      7012\n",
      "           1       0.94      0.79      0.86      7027\n",
      "\n",
      "    accuracy                           0.87     14039\n",
      "   macro avg       0.88      0.87      0.87     14039\n",
      "weighted avg       0.88      0.87      0.87     14039\n",
      "\n"
     ]
    }
   ],
   "source": [
    "# Define the FNN model\n",
    "model_FNN = models.Sequential([\n",
    "    layers.Dense(128, activation='relu', input_dim=X_train.shape[1]),\n",
    "    layers.Dropout(0.2),\n",
    "    layers.Dense(64, activation='relu'),\n",
    "    layers.Dropout(0.2),\n",
    "    layers.Dense(1, activation='sigmoid')  # Assuming binary classification\n",
    "])\n",
    "\n",
    "# Compile the model\n",
    "model_FNN.compile(optimizer='adam', loss='binary_crossentropy', metrics=['accuracy'])\n",
    "\n",
    "# Train the model\n",
    "model_FNN.fit(X_train_scaled, Y_train, epochs=10, batch_size=32, validation_split=0.2)\n",
    "\n",
    "# Evaluate the model on the test set\n",
    "predictions_FNN = model_FNN.predict(X_test_scaled)\n",
    "predictions_binary = (predictions_FNN > 0.5).astype(int)\n",
    "\n",
    "# Print evaluation metrics\n",
    "print(\"Accuracy:\", accuracy_score(Y_test, predictions_binary))\n",
    "print(\"\\nConfusion Matrix:\\n\", confusion_matrix(Y_test, predictions_binary))\n",
    "print(\"\\nClassification Report:\\n\", classification_report(Y_test, predictions_binary))"
   ]
  },
  {
   "cell_type": "code",
   "execution_count": 35,
   "id": "d0cebaf1",
   "metadata": {},
   "outputs": [
    {
     "data": {
      "image/png": "[encoded data removed]",
      "text/plain": [
       "<Figure size 1000x600 with 1 Axes>"
      ]
     },
     "metadata": {},
     "output_type": "display_data"
    }
   ],
   "source": [
    "# Create the actual vs. fitted plot\n",
    "plt.figure(figsize=(10, 6))\n",
    "plt.scatter(Y_test, predictions_binary, color='blue', alpha=0.5)\n",
    "plt.plot([min(Y_test), max(Y_test)], [min(Y_test), max(Y_test)], linestyle='--', color='red', linewidth=2, label='Ideal Fit')\n",
    "plt.title('Actual vs. Fitted Plot')\n",
    "plt.xlabel('Actual Values')\n",
    "plt.ylabel('Fitted Values')\n",
    "plt.legend()\n",
    "plt.show()"
   ]
  },
  {
   "cell_type": "markdown",
   "id": "80e62224",
   "metadata": {},
   "source": [
    "# Feedforward neural network by PyTorch"
   ]
  },
  {
   "cell_type": "code",
   "execution_count": 153,
   "id": "9d70297c",
   "metadata": {},
   "outputs": [
    {
     "name": "stdout",
     "output_type": "stream",
     "text": [
      "Epoch [1/10], Loss: 0.6973\n",
      "Epoch [2/10], Loss: 0.6851\n",
      "Epoch [3/10], Loss: 0.6732\n",
      "Epoch [4/10], Loss: 0.6620\n",
      "Epoch [5/10], Loss: 0.6508\n",
      "Epoch [6/10], Loss: 0.6394\n",
      "Epoch [7/10], Loss: 0.6281\n",
      "Epoch [8/10], Loss: 0.6163\n",
      "Epoch [9/10], Loss: 0.6045\n",
      "Epoch [10/10], Loss: 0.5928\n",
      "Accuracy: 0.7883040102571408\n",
      "\n",
      "Confusion Matrix:\n",
      " [[5566 1446]\n",
      " [1526 5501]]\n",
      "\n",
      "Classification Report:\n",
      "               precision    recall  f1-score   support\n",
      "\n",
      "         0.0       0.78      0.79      0.79      7012\n",
      "         1.0       0.79      0.78      0.79      7027\n",
      "\n",
      "    accuracy                           0.79     14039\n",
      "   macro avg       0.79      0.79      0.79     14039\n",
      "weighted avg       0.79      0.79      0.79     14039\n",
      "\n"
     ]
    }
   ],
   "source": [
    "import torch\n",
    "import torch.nn as nn\n",
    "import torch.optim as optim\n",
    "from torch.utils.data import DataLoader, TensorDataset\n",
    "from sklearn.model_selection import train_test_split\n",
    "from sklearn.preprocessing import StandardScaler\n",
    "from sklearn.metrics import accuracy_score, classification_report, confusion_matrix\n",
    "\n",
    "# Assuming you have x_sm (features) and y_sm (target variable) loaded\n",
    "\n",
    "# Reshape your data for a simple example (adjust as needed)\n",
    "x_sm_reshaped = torch.Tensor(x_sm.values.reshape(-1, x_sm.shape[1], 1))\n",
    "y_sm_tensor = torch.Tensor(y_sm.values.reshape(-1, 1))\n",
    "\n",
    "# Split the data into training and testing sets\n",
    "x_sm_train, x_sm_test, y_sm_train, y_sm_test = train_test_split(x_sm_reshaped, y_sm_tensor, test_size=0.2, random_state=42)\n",
    "\n",
    "# Standardize the features\n",
    "scaler = StandardScaler()\n",
    "x_sm_train_scaled = torch.Tensor(scaler.fit_transform(x_sm_train.view(x_sm_train.size(0), -1)).reshape(x_sm_train.size()))\n",
    "x_sm_test_scaled = torch.Tensor(scaler.transform(x_sm_test.view(x_sm_test.size(0), -1)).reshape(x_sm_test.size()))\n",
    "\n",
    "# Define the FNN model using PyTorch\n",
    "class FNN(nn.Module):\n",
    "    def __init__(self, input_size, hidden_size1, hidden_size2, output_size):\n",
    "        super(FNN, self).__init__()\n",
    "        self.flatten = nn.Flatten()\n",
    "        self.fc1 = nn.Linear(input_size, hidden_size1)\n",
    "        self.relu1 = nn.ReLU()\n",
    "        self.dropout1 = nn.Dropout(0.2)\n",
    "        self.fc2 = nn.Linear(hidden_size1, hidden_size2)\n",
    "        self.relu2 = nn.ReLU()\n",
    "        self.dropout2 = nn.Dropout(0.2)\n",
    "        self.fc3 = nn.Linear(hidden_size2, output_size)\n",
    "        self.sigmoid = nn.Sigmoid()\n",
    "\n",
    "    def forward(self, x):\n",
    "        x = self.flatten(x)\n",
    "        x = self.fc1(x)\n",
    "        x = self.relu1(x)\n",
    "        x = self.dropout1(x)\n",
    "        x = self.fc2(x)\n",
    "        x = self.relu2(x)\n",
    "        x = self.dropout2(x)\n",
    "        x = self.fc3(x)\n",
    "        x = self.sigmoid(x)\n",
    "        return x\n",
    "\n",
    "# Instantiate the model\n",
    "input_size = x_sm_train.size(1) * x_sm_train.size(2)\n",
    "hidden_size1 = 128\n",
    "hidden_size2 = 64\n",
    "output_size = 1\n",
    "model = FNN(input_size, hidden_size1, hidden_size2, output_size)\n",
    "\n",
    "# Loss and optimizer\n",
    "criterion = nn.BCELoss()\n",
    "optimizer = optim.Adam(model.parameters(), lr=0.001)\n",
    "\n",
    "# Train the model\n",
    "num_epochs = 10\n",
    "for epoch in range(num_epochs):\n",
    "    # Forward pass\n",
    "    outputs = model(x_sm_train_scaled)\n",
    "    loss = criterion(outputs, y_sm_train)\n",
    "\n",
    "    # Backward pass and optimization\n",
    "    optimizer.zero_grad()\n",
    "    loss.backward()\n",
    "    optimizer.step()\n",
    "\n",
    "    # Print progress\n",
    "    if (epoch + 1) % 1 == 0:\n",
    "        print(f'Epoch [{epoch+1}/{num_epochs}], Loss: {loss.item():.4f}')\n",
    "\n",
    "# Evaluate the model on the test set\n",
    "with torch.no_grad():\n",
    "    model.eval()\n",
    "    predictions = model(x_sm_test_scaled)\n",
    "    predictions_binary = (predictions > 0.5).float()\n",
    "\n",
    "# Convert predictions to numpy arrays for sklearn metrics\n",
    "predictions_numpy = predictions_binary.numpy()\n",
    "y_sm_test_numpy = y_sm_test.numpy()\n",
    "\n",
    "# Print evaluation metrics\n",
    "print(\"Accuracy:\", accuracy_score(y_sm_test_numpy, predictions_numpy))\n",
    "print(\"\\nConfusion Matrix:\\n\", confusion_matrix(y_sm_test_numpy, predictions_numpy))\n",
    "print(\"\\nClassification Report:\\n\", classification_report(y_sm_test_numpy, predictions_numpy))\n"
   ]
  },
  {
   "cell_type": "markdown",
   "id": "2436efa1",
   "metadata": {},
   "source": [
    "# Improving efficiency"
   ]
  },
  {
   "cell_type": "code",
   "execution_count": 154,
   "id": "86b12182",
   "metadata": {},
   "outputs": [
    {
     "name": "stdout",
     "output_type": "stream",
     "text": [
      "Epoch [1/15], Loss: 0.6914\n",
      "Epoch [2/15], Loss: 0.6793\n",
      "Epoch [3/15], Loss: 0.6678\n",
      "Epoch [4/15], Loss: 0.6569\n",
      "Epoch [5/15], Loss: 0.6459\n",
      "Epoch [6/15], Loss: 0.6359\n",
      "Epoch [7/15], Loss: 0.6308\n",
      "Epoch [8/15], Loss: 0.6257\n",
      "Epoch [9/15], Loss: 0.6203\n",
      "Epoch [10/15], Loss: 0.6151\n",
      "Epoch [11/15], Loss: 0.6099\n",
      "Epoch [12/15], Loss: 0.6073\n",
      "Epoch [13/15], Loss: 0.6049\n",
      "Epoch [14/15], Loss: 0.6015\n",
      "Epoch [15/15], Loss: 0.5991\n",
      "Accuracy: 0.7694280219388845\n",
      "\n",
      "Confusion Matrix:\n",
      " [[5003 2009]\n",
      " [1228 5799]]\n",
      "\n",
      "Classification Report:\n",
      "               precision    recall  f1-score   support\n",
      "\n",
      "         0.0       0.80      0.71      0.76      7012\n",
      "         1.0       0.74      0.83      0.78      7027\n",
      "\n",
      "    accuracy                           0.77     14039\n",
      "   macro avg       0.77      0.77      0.77     14039\n",
      "weighted avg       0.77      0.77      0.77     14039\n",
      "\n"
     ]
    }
   ],
   "source": [
    "import torch\n",
    "import torch.nn as nn\n",
    "import torch.optim as optim\n",
    "from torch.utils.data import DataLoader, TensorDataset\n",
    "from sklearn.model_selection import train_test_split\n",
    "from sklearn.preprocessing import StandardScaler\n",
    "from sklearn.metrics import accuracy_score, classification_report, confusion_matrix\n",
    "\n",
    "# Assuming you have x_sm (features) and y_sm (target variable) loaded\n",
    "\n",
    "# Reshape your data for a simple example (adjust as needed)\n",
    "x_sm_reshaped = torch.Tensor(x_sm.values.reshape(-1, x_sm.shape[1], 1))\n",
    "y_sm_tensor = torch.Tensor(y_sm.values.reshape(-1, 1))\n",
    "\n",
    "# Split the data into training and testing sets\n",
    "x_sm_train, x_sm_test, y_sm_train, y_sm_test = train_test_split(x_sm_reshaped, y_sm_tensor, test_size=0.2, random_state=42)\n",
    "\n",
    "# Standardize the features\n",
    "scaler = StandardScaler()\n",
    "x_sm_train_scaled = torch.Tensor(scaler.fit_transform(x_sm_train.view(x_sm_train.size(0), -1)).reshape(x_sm_train.size()))\n",
    "x_sm_test_scaled = torch.Tensor(scaler.transform(x_sm_test.view(x_sm_test.size(0), -1)).reshape(x_sm_test.size()))\n",
    "\n",
    "# Define the FNN model using PyTorch with additional improvements\n",
    "class ImprovedFNN(nn.Module):\n",
    "    def __init__(self, input_size, hidden_size1, hidden_size2, output_size, dropout_rate=0.2):\n",
    "        super(ImprovedFNN, self).__init__()\n",
    "        self.flatten = nn.Flatten()\n",
    "        self.fc1 = nn.Linear(input_size, hidden_size1)\n",
    "        self.relu1 = nn.ReLU()\n",
    "        self.dropout1 = nn.Dropout(dropout_rate)\n",
    "        self.fc2 = nn.Linear(hidden_size1, hidden_size2)\n",
    "        self.relu2 = nn.ReLU()\n",
    "        self.dropout2 = nn.Dropout(dropout_rate)\n",
    "        self.fc3 = nn.Linear(hidden_size2, output_size)\n",
    "        self.sigmoid = nn.Sigmoid()\n",
    "\n",
    "    def forward(self, x):\n",
    "        x = self.flatten(x)\n",
    "        x = self.fc1(x)\n",
    "        x = self.relu1(x)\n",
    "        x = self.dropout1(x)\n",
    "        x = self.fc2(x)\n",
    "        x = self.relu2(x)\n",
    "        x = self.dropout2(x)\n",
    "        x = self.fc3(x)\n",
    "        x = self.sigmoid(x)\n",
    "        return x\n",
    "\n",
    "# Instantiate the improved model\n",
    "input_size = x_sm_train.size(1) * x_sm_train.size(2)\n",
    "hidden_size1 = 128\n",
    "hidden_size2 = 64\n",
    "output_size = 1\n",
    "dropout_rate = 0.3  # Adjust the dropout rate as needed\n",
    "improved_model = ImprovedFNN(input_size, hidden_size1, hidden_size2, output_size, dropout_rate)\n",
    "\n",
    "# Loss and optimizer with learning rate scheduling\n",
    "criterion = nn.BCELoss()\n",
    "optimizer = optim.Adam(improved_model.parameters(), lr=0.001)\n",
    "scheduler = optim.lr_scheduler.StepLR(optimizer, step_size=5, gamma=0.5)  # Learning rate scheduling\n",
    "\n",
    "# Train the improved model\n",
    "num_epochs = 15\n",
    "for epoch in range(num_epochs):\n",
    "    # Forward pass\n",
    "    improved_model.train()\n",
    "    outputs = improved_model(x_sm_train_scaled)\n",
    "    loss = criterion(outputs, y_sm_train)\n",
    "\n",
    "    # Backward pass and optimization\n",
    "    optimizer.zero_grad()\n",
    "    loss.backward()\n",
    "    optimizer.step()\n",
    "\n",
    "    # Learning rate scheduling step\n",
    "    scheduler.step()\n",
    "\n",
    "    # Print progress\n",
    "    if (epoch + 1) % 1 == 0:\n",
    "        print(f'Epoch [{epoch+1}/{num_epochs}], Loss: {loss.item():.4f}')\n",
    "\n",
    "# Evaluate the improved model on the test set\n",
    "with torch.no_grad():\n",
    "    improved_model.eval()\n",
    "    predictions = improved_model(x_sm_test_scaled)\n",
    "    predictions_binary = (predictions > 0.5).float()\n",
    "\n",
    "# Convert predictions to numpy arrays for sklearn metrics\n",
    "predictions_numpy = predictions_binary.numpy()\n",
    "y_sm_test_numpy = y_sm_test.numpy()\n",
    "\n",
    "# Print evaluation metrics\n",
    "print(\"Accuracy:\", accuracy_score(y_sm_test_numpy, predictions_numpy))\n",
    "print(\"\\nConfusion Matrix:\\n\", confusion_matrix(y_sm_test_numpy, predictions_numpy))\n",
    "print(\"\\nClassification Report:\\n\", classification_report(y_sm_test_numpy, predictions_numpy))\n"
   ]
  },
  {
   "cell_type": "markdown",
   "id": "8884abea",
   "metadata": {},
   "source": [
    "# Ensemble Neural Network"
   ]
  },
  {
   "cell_type": "code",
   "execution_count": 156,
   "id": "d00c0a1b",
   "metadata": {},
   "outputs": [
    {
     "name": "stdout",
     "output_type": "stream",
     "text": [
      "Accuracy: 0.7711375454092172\n",
      "\n",
      "Confusion Matrix:\n",
      " [[5715 1297]\n",
      " [1916 5111]]\n",
      "\n",
      "Classification Report:\n",
      "               precision    recall  f1-score   support\n",
      "\n",
      "         0.0       0.75      0.82      0.78      7012\n",
      "         1.0       0.80      0.73      0.76      7027\n",
      "\n",
      "    accuracy                           0.77     14039\n",
      "   macro avg       0.77      0.77      0.77     14039\n",
      "weighted avg       0.77      0.77      0.77     14039\n",
      "\n"
     ]
    }
   ],
   "source": [
    "\n",
    "# Define the NeuralNetwork class\n",
    "class NeuralNetwork(nn.Module):\n",
    "    def __init__(self, input_size, hidden_size, output_size):\n",
    "        super(NeuralNetwork, self).__init__()\n",
    "        self.flatten = nn.Flatten()\n",
    "        self.fc1 = nn.Linear(input_size, hidden_size)\n",
    "        self.relu = nn.ReLU()\n",
    "        self.fc2 = nn.Linear(hidden_size, output_size)\n",
    "        self.sigmoid = nn.Sigmoid()\n",
    "\n",
    "    def forward(self, x):\n",
    "        x = self.flatten(x)\n",
    "        x = self.fc1(x)\n",
    "        x = self.relu(x)\n",
    "        x = self.fc2(x)\n",
    "        x = self.sigmoid(x)\n",
    "        return x\n",
    "\n",
    "\n",
    "\n",
    "\n",
    "# Define ensemble members\n",
    "model1 = NeuralNetwork(input_size=x_sm_train.size(1) * x_sm_train.size(2), hidden_size=64, output_size=1)\n",
    "model2 = NeuralNetwork(input_size=x_sm_train.size(1) * x_sm_train.size(2), hidden_size=128, output_size=1)\n",
    "model3 = NeuralNetwork(input_size=x_sm_train.size(1) * x_sm_train.size(2), hidden_size=64, output_size=1)\n",
    "\n",
    "# Loss and optimizer\n",
    "criterion = nn.BCELoss()\n",
    "optimizer1 = optim.Adam(model1.parameters(), lr=0.001)\n",
    "optimizer2 = optim.Adam(model2.parameters(), lr=0.001)\n",
    "optimizer3 = optim.Adam(model3.parameters(), lr=0.001)\n",
    "\n",
    "# Training loop for each model\n",
    "num_epochs = 10\n",
    "for epoch in range(num_epochs):\n",
    "    model1.train()\n",
    "    outputs = model1(x_sm_train_scaled)\n",
    "    loss = criterion(outputs, y_sm_train)\n",
    "    optimizer1.zero_grad()\n",
    "    loss.backward()\n",
    "    optimizer1.step()\n",
    "\n",
    "    model2.train()\n",
    "    outputs = model2(x_sm_train_scaled)\n",
    "    loss = criterion(outputs, y_sm_train)\n",
    "    optimizer2.zero_grad()\n",
    "    loss.backward()\n",
    "    optimizer2.step()\n",
    "\n",
    "    model3.train()\n",
    "    outputs = model3(x_sm_train_scaled)\n",
    "    loss = criterion(outputs, y_sm_train)\n",
    "    optimizer3.zero_grad()\n",
    "    loss.backward()\n",
    "    optimizer3.step()\n",
    "\n",
    "# Evaluate each model on the test set\n",
    "with torch.no_grad():\n",
    "    model1.eval()\n",
    "    predictions1 = (model1(x_sm_test_scaled) > 0.5).float().numpy()\n",
    "\n",
    "    model2.eval()\n",
    "    predictions2 = (model2(x_sm_test_scaled) > 0.5).float().numpy()\n",
    "\n",
    "    model3.eval()\n",
    "    predictions3 = (model3(x_sm_test_scaled) > 0.5).float().numpy()\n",
    "\n",
    "# Combine predictions through a voting mechanism\n",
    "ensemble_predictions = (predictions1 + predictions2 + predictions3 >= 2).astype(int)\n",
    "\n",
    "# Print evaluation metrics for the ensemble\n",
    "print(\"Accuracy:\", accuracy_score(y_sm_test.numpy(), ensemble_predictions))\n",
    "print(\"\\nConfusion Matrix:\\n\", confusion_matrix(y_sm_test.numpy(), ensemble_predictions))\n",
    "print(\"\\nClassification Report:\\n\", classification_report(y_sm_test.numpy(), ensemble_predictions))"
   ]
  },
  {
   "cell_type": "code",
   "execution_count": null,
   "id": "f7618740",
   "metadata": {},
   "outputs": [],
   "source": []
  }
 ],
 "metadata": {
  "kernelspec": {
   "display_name": "Python 3 (ipykernel)",
   "language": "python",
   "name": "python3"
  },
  "language_info": {
   "codemirror_mode": {
    "name": "ipython",
    "version": 3
   },
   "file_extension": ".py",
   "mimetype": "text/x-python",
   "name": "python",
   "nbconvert_exporter": "python",
   "pygments_lexer": "ipython3",
   "version": "3.11.4"
  }
 },
 "nbformat": 4,
 "nbformat_minor": 5
}
